{
 "cells": [
  {
   "cell_type": "code",
   "execution_count": 1,
   "metadata": {},
   "outputs": [],
   "source": [
    "import math\n",
    "import numpy as np \n",
    "import matplotlib.pyplot as plt \n",
    "from numpy import random \n",
    "import sys\n",
    "np.set_printoptions(threshold=sys.maxsize)"
   ]
  },
  {
   "cell_type": "code",
   "execution_count": 5,
   "metadata": {},
   "outputs": [],
   "source": [
    "N =100\n",
    "dt = 1 \n",
    "dx = 1\n",
    "D_u = 0.16\n",
    "D_v = 0.08\n",
    "f = 0.035\n",
    "k = 0.060"
   ]
  },
  {
   "cell_type": "code",
   "execution_count": 8,
   "metadata": {},
   "outputs": [],
   "source": [
    "def init(N):\n",
    "    '''\n",
    "    Initialize a grid with all zeros\n",
    "    Args:\n",
    "        -N the size of the grid\n",
    "    Out: the initial state of the grid\n",
    "    '''\n",
    "    u_grid =  np.full((N,N), 0.5)\n",
    "    v_grid = np.zeros((N,N))\n",
    "    for i in np.arange(int(N/2-5),int(N/2+5),1):\n",
    "        for j in np.arange(int(N/2-5),int(N/2+5),1):\n",
    "            v_grid[i,j]=0.25\n",
    "    return u_grid, v_grid"
   ]
  },
  {
   "cell_type": "code",
   "execution_count": 12,
   "metadata": {},
   "outputs": [
    {
     "data": {
      "image/png": "[encoded data removed]",
      "text/plain": [
       "<Figure size 432x288 with 1 Axes>"
      ]
     },
     "metadata": {
      "needs_background": "light"
     },
     "output_type": "display_data"
    }
   ],
   "source": [
    "u_grid, v_grid = init(N)\n",
    "plt.imshow(u_grid)\n",
    "plt.imshow(v_grid)\n",
    "plt.show()"
   ]
  },
  {
   "cell_type": "code",
   "execution_count": null,
   "metadata": {},
   "outputs": [],
   "source": []
  }
 ],
 "metadata": {
  "kernelspec": {
   "display_name": "Python 3",
   "language": "python",
   "name": "python3"
  },
  "language_info": {
   "codemirror_mode": {
    "name": "ipython",
    "version": 3
   },
   "file_extension": ".py",
   "mimetype": "text/x-python",
   "name": "python",
   "nbconvert_exporter": "python",
   "pygments_lexer": "ipython3",
   "version": "3.8.3"
  }
 },
 "nbformat": 4,
 "nbformat_minor": 4
}
