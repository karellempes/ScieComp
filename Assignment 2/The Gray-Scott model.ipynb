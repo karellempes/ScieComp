{
 "cells": [
  {
   "cell_type": "code",
   "execution_count": 2,
   "metadata": {},
   "outputs": [],
   "source": [
    "import math\n",
    "import numpy as np \n",
    "import matplotlib.pyplot as plt \n",
    "from numpy import random \n",
    "import sys\n",
    "np.set_printoptions(threshold=sys.maxsize)"
   ]
  },
  {
   "cell_type": "code",
   "execution_count": 12,
   "metadata": {},
   "outputs": [],
   "source": [
    "N =100\n",
    "dt = 1 \n",
    "dx = 1\n",
    "D_u = 0.16\n",
    "D_v = 0.08\n",
    "f = 0.035\n",
    "k = 0.060\n",
    "w = 1.9"
   ]
  },
  {
   "cell_type": "code",
   "execution_count": 8,
   "metadata": {},
   "outputs": [],
   "source": [
    "def init(N):\n",
    "    '''\n",
    "    Initialize a grid with all zeros\n",
    "    Args:\n",
    "        -N the size of the grid\n",
    "    Out: the initial state of the grid\n",
    "    '''\n",
    "    u_grid =  np.full((N,N), 0.5)\n",
    "    u_grid[0,:] = 0\n",
    "    u_grid[-1,:] = 0\n",
    "    u_grid[:,0] = 0\n",
    "    u_grid[:,-1] = 0\n",
    "    v_grid = np.zeros((N,N))\n",
    "    for i in np.arange(int(N/2-5),int(N/2+5),1):\n",
    "        for j in np.arange(int(N/2-5),int(N/2+5),1):\n",
    "            v_grid[i,j]=0.25\n",
    "    return u_grid, v_grid"
   ]
  },
  {
   "cell_type": "code",
   "execution_count": 14,
   "metadata": {},
   "outputs": [],
   "source": [
    "def GS_model(U, V, D_v, D_u, f, k, w):\n",
    "    for j in range(1,len(U)-1):\n",
    "        for i in range(1,len(U)-1):\n",
    "            u = U[j,i]\n",
    "            v = V[j,i]\n",
    "            grad_u = U[j,i] = (1-w)*U[j,i] + (w/4) * (U[j+1,i] + U[j-1,i] + U[j,i+1] + U[j,i-1]) \n",
    "            grad_v = V[j,i] = (1-w)*V[j,i] + (w/4) * (V[j+1,i] + V[j-1,i] + V[j,i+1] + V[j,i-1]) \n",
    "            U[j,i] = D_u * grad_u - u * v**2 + f * (1-u)\n",
    "            V[j,i] = D_v * grad_v + u * v**2 - (f+k) * v\n",
    "    return U,V\n",
    "            "
   ]
  },
  {
   "cell_type": "code",
   "execution_count": 15,
   "metadata": {},
   "outputs": [
    {
     "data": {
      "image/png": "[encoded data removed]",
      "text/plain": [
       "<Figure size 432x288 with 1 Axes>"
      ]
     },
     "metadata": {
      "needs_background": "light"
     },
     "output_type": "display_data"
    },
    {
     "data": {
      "image/png": "[encoded data removed]",
      "text/plain": [
       "<Figure size 432x288 with 1 Axes>"
      ]
     },
     "metadata": {
      "needs_background": "light"
     },
     "output_type": "display_data"
    }
   ],
   "source": [
    "U,V = init(N)\n",
    "\n",
    "for i in range(1000):\n",
    "    U,V = GS_model(U, V, D_v, D_u, f, k, w)\n",
    "\n",
    "plt.imshow(u_grid)\n",
    "plt.show()\n",
    "plt.imshow(v_grid)\n",
    "plt.show()\n",
    "\n",
    "# fix same scale https://stackoverflow.com/questions/17989917/imshow-subplots-with-the-same-colorbar"
   ]
  },
  {
   "cell_type": "code",
   "execution_count": null,
   "metadata": {},
   "outputs": [],
   "source": []
  },
  {
   "cell_type": "code",
   "execution_count": null,
   "metadata": {},
   "outputs": [],
   "source": []
  }
 ],
 "metadata": {
  "kernelspec": {
   "display_name": "Python 3",
   "language": "python",
   "name": "python3"
  },
  "language_info": {
   "codemirror_mode": {
    "name": "ipython",
    "version": 3
   },
   "file_extension": ".py",
   "mimetype": "text/x-python",
   "name": "python",
   "nbconvert_exporter": "python",
   "pygments_lexer": "ipython3",
   "version": "3.8.3"
  }
 },
 "nbformat": 4,
 "nbformat_minor": 4
}
