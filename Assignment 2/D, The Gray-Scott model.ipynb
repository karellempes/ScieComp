{
 "cells": [
  {
   "cell_type": "code",
   "execution_count": 1,
   "metadata": {},
   "outputs": [],
   "source": [
    "import math\n",
    "import numpy as np \n",
    "import matplotlib.pyplot as plt \n",
    "from numpy import random \n",
    "import sys\n",
    "import matplotlib.animation as animation\n",
    "np.set_printoptions(threshold=sys.maxsize)"
   ]
  },
  {
   "cell_type": "code",
   "execution_count": 2,
   "metadata": {},
   "outputs": [],
   "source": [
    "N = 100\n",
    "dt = 1 \n",
    "dx = 1\n",
    "D_u = 0.16\n",
    "D_v = 0.08\n",
    "f = 0.035\n",
    "k = 0.060\n",
    "w = 1.9"
   ]
  },
  {
   "cell_type": "code",
   "execution_count": 3,
   "metadata": {},
   "outputs": [],
   "source": [
    "def init(N, v_size):\n",
    "    '''\n",
    "    Initialize a grid with all zeros\n",
    "    Args:\n",
    "        -N the size of the grid\n",
    "    Out: the initial state \n",
    "    of the grid\n",
    "    '''\n",
    "    u_grid = np.full((N,N), 0.5)\n",
    "    v_grid = np.zeros((N,N))\n",
    "    for i in np.arange(int(N/2-v_size),int(N/2+v_size),1):\n",
    "        for j in np.arange(int(N/2-v_size),int(N/2+v_size),1):\n",
    "            v_grid[i,j]=0.25\n",
    "    return u_grid, v_grid"
   ]
  },
  {
   "cell_type": "code",
   "execution_count": 4,
   "metadata": {},
   "outputs": [],
   "source": [
    "def GS_update(U_grid, D_u, V_grid, D_v, f, k):\n",
    "    U = np.copy(U_grid)\n",
    "    V = np.copy(V_grid)\n",
    "    for j in range(0,len(U)):\n",
    "        for i in range(0,len(U)):\n",
    "            u = U[j,i]\n",
    "            v = V[j,i]\n",
    "            \n",
    "            grad_u = (D_u*dt / (dx**2)) * (U[(j+1)%len(U), i] + U[(j-1)%len(U),i]+ U[j,(i+1)%len(U)] +U[j,(i-1)%len(U)] - 4*u)\n",
    "            U_grid[j,i] = u + (D_u * grad_u) - (u * v**2) + (f * (1-u))\n",
    "            \n",
    "            grad_v = (D_v*dt / (dx**2)) * (V[(j+1)%len(U), i] + V[(j-1)%len(U),i]+ V[j,(i+1)%len(U)] +V[j,(i-1)%len(U)] - 4*v)             \n",
    "            V_grid[j,i] = v + (D_v * grad_v) + (u * v**2) - ((f+k) * v)\n",
    "\n",
    "    return U_grid, V_grid"
   ]
  },
  {
   "cell_type": "code",
   "execution_count": 5,
   "metadata": {},
   "outputs": [],
   "source": [
    "def run(U_grid,V_grid,t_max, f , k):\n",
    "    for t in range(t_max):\n",
    "        U_grid, V_grid = GS_update(U_grid, D_u, V_grid, D_v, f, k)\n",
    "        if t%100 == 0:\n",
    "            fig, axes = plt.subplots(nrows=1, ncols=2)\n",
    "            im1 = axes[0].imshow(U_grid,vmin=0, vmax=1,aspect='auto', cmap='viridis')\n",
    "            axes[0].set_title(\"U grid\")\n",
    "            im2 = axes[1].imshow(V_grid,vmin=0, vmax=1,aspect='auto', cmap='viridis')\n",
    "            axes[1].set_title(\"V grid\")\n",
    "            fig.subplots_adjust(right=0.85)\n",
    "            cbar_ax = fig.add_axes([0.88, 0.15, 0.04, 0.7])\n",
    "            fig.colorbar(im2, cax=cbar_ax)\n"
   ]
  },
  {
   "cell_type": "code",
   "execution_count": null,
   "metadata": {},
   "outputs": [],
   "source": [
    "f_list = [0.035, 0.05, 0.06]\n",
    "k_list = [0.060, 0.05, 0.01]\n",
    "\n",
    "for i in range(len(f_list)):\n",
    "    U_grid,V_grid = init(N,10)\n",
    "    run(U_grid,V_grid,5000, f_list[i] , k_list[i])\n",
    "    "
   ]
  },
  {
   "cell_type": "code",
   "execution_count": null,
   "metadata": {},
   "outputs": [],
   "source": [
    "# U_grid,V_grid = init(N,5)\n",
    "\n",
    "# def frame_m(frames, N ):\n",
    "#     Matrix= np.zeros((frames, N, N))\n",
    "#     U_grid,V_grid = init(N,5)\n",
    "#     Matrix[0] = U_grid\n",
    "#     for t in range(1,frames):\n",
    "#         U_grid,V_grid = GS_update(U_grid, D_u, V_grid, D_v, f, k)\n",
    "#         Matrix[t] = U_grid\n",
    "#     return Matrix\n",
    "\n",
    "# frames_matrix = frame_m(40000, N)"
   ]
  },
  {
   "cell_type": "code",
   "execution_count": null,
   "metadata": {},
   "outputs": [],
   "source": [
    "# def update(i):\n",
    "#     '''\n",
    "#     Updater function for the animation\n",
    "#     '''\n",
    "#     mat.set_data(frames_matrix[i])\n",
    "#     return mat \n",
    "\n",
    "\n",
    "# fig, ax = plt.subplots()\n",
    "# mat = ax.matshow(U_grid)\n",
    "# plt.colorbar(mat)\n",
    "# ani = animation.FuncAnimation(fig, update, frames = 40000, interval=20,\n",
    "#                               save_count=50)\n",
    "# plt.show()\n",
    "# ani.save('animation.mp4')"
   ]
  },
  {
   "cell_type": "code",
   "execution_count": null,
   "metadata": {},
   "outputs": [],
   "source": []
  }
 ],
 "metadata": {
  "kernelspec": {
   "display_name": "Python 3",
   "language": "python",
   "name": "python3"
  },
  "language_info": {
   "codemirror_mode": {
    "name": "ipython",
    "version": 3
   },
   "file_extension": ".py",
   "mimetype": "text/x-python",
   "name": "python",
   "nbconvert_exporter": "python",
   "pygments_lexer": "ipython3",
   "version": "3.8.3"
  }
 },
 "nbformat": 4,
 "nbformat_minor": 4
}
