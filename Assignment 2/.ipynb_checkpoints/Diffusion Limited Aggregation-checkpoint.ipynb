{
 "cells": [
  {
   "cell_type": "code",
   "execution_count": 1,
   "metadata": {},
   "outputs": [],
   "source": [
    "import math\n",
    "import numpy as np \n",
    "import matplotlib.pyplot as plt \n",
    "from numpy import random \n",
    "import sys\n",
    "np.set_printoptions(threshold=sys.maxsize)"
   ]
  },
  {
   "cell_type": "code",
   "execution_count": 2,
   "metadata": {},
   "outputs": [],
   "source": [
    "#initialize the values\n",
    "N = 100\n",
    "D = 1\n",
    "dx = 1/N\n",
    "w = 1.9\n",
    "e = 10**(-5)\n",
    "eta = 2\n",
    "max_iter = (N*N)/2"
   ]
  },
  {
   "cell_type": "code",
   "execution_count": 3,
   "metadata": {},
   "outputs": [
    {
     "data": {
      "image/png": "[encoded data removed]",
      "text/plain": [
       "<Figure size 432x288 with 1 Axes>"
      ]
     },
     "metadata": {
      "needs_background": "light"
     },
     "output_type": "display_data"
    }
   ],
   "source": [
    "def init(N):\n",
    "    grid = np.zeros((N,N))\n",
    "    for i in range(0,N-1):\n",
    "        y = 1 - (i /N)\n",
    "        grid[i] = np.full((1,N),y)\n",
    "    return(grid)\n",
    "grid = init(N)"
   ]
  },
  {
   "cell_type": "code",
   "execution_count": 9,
   "metadata": {},
   "outputs": [],
   "source": [
    "# kunnen we ook ff makkelijk maken door y = y/100\n",
    "def update_SOR(Y, w, seed):\n",
    "    '''\n",
    "    The SOR method grid update function\n",
    "    Args:\n",
    "        -Y, the grid at the current timestep\n",
    "        -w, the omega constant\n",
    "        -N, the size of the grid\n",
    "    Out:\n",
    "        -Y, the grid at the next timestep\n",
    "    '''\n",
    "    \n",
    "    #update the grid at position i, j and take boundary conditions into account\n",
    "    for j in range(1, len(Y)-1):\n",
    "        for i in range(len(Y)):\n",
    "            if i == 0:\n",
    "                 Y[j,i] = (1-w)*Y[j,i] + (w/4) * (Y[j+1,i] + Y[j-1,i] + Y[j,i+1] + Y[j,-1]) \n",
    "            elif i == N-1:\n",
    "                 Y[j,i] = (1-w)*Y[j,i] + (w/4) * (Y[j+1,i] + Y[j-1,i] + Y[j,0] + Y[j,i-1]) \n",
    "            else:\n",
    "                 Y[j,i] = (1-w)*Y[j,i] + (w/4) * (Y[j+1,i] + Y[j-1,i] + Y[j,i+1] + Y[j,i-1])  \n",
    "            if Y[j,i]<0:\n",
    "                Y[j,i] = 0    \n",
    "            # kijken of we een beter implementatie kunnen regelen voor dit\n",
    "            for s in seed:\n",
    "                Y[int(s[0]),int(s[1])] = 0\n",
    "    return(Y)  "
   ]
  },
  {
   "cell_type": "code",
   "execution_count": 5,
   "metadata": {},
   "outputs": [],
   "source": [
    "def neighbours_function(new_s, Y, neighbours):\n",
    "    if int(new_s[0]) == 0:\n",
    "        if int(new_s[1]) ==0:\n",
    "            if Y[int(new_s[0]),len(Y)-1]!=0:\n",
    "                neighbours = np.vstack([neighbours, [int(new_s[0]),len(Y)-1]])\n",
    "            if Y[int(new_s[0]),int(new_s[1])+1]!=0:\n",
    "                neighbours = np.vstack([neighbours, [int(new_s[0]),int(new_s[1])+1]])  \n",
    "            if Y[int(new_s[0])+1,int(new_s[1])]!=0:\n",
    "                neighbours = np.vstack([neighbours, [int(new_s[0])+1,int(new_s[1])]])\n",
    "        elif int(new_s[1]) == len(Y)-1:\n",
    "            if Y[int(new_s[0]),int(new_s[1])-1]!=0:\n",
    "                neighbours = np.vstack([neighbours, [int(new_s[0]),int(new_s[1])-1]])\n",
    "            if Y[int(new_s[0]),0]!=0:\n",
    "                neighbours = np.vstack([neighbours, [int(new_s[0]),0]])  \n",
    "            if Y[int(new_s[0])+1,int(new_s[1])]!=0:\n",
    "                neighbours = np.vstack([neighbours, [int(new_s[0])+1,int(new_s[1])]])            \n",
    "        else:\n",
    "            if Y[int(new_s[0]),int(new_s[1])+1]!=0:\n",
    "                neighbours = np.vstack([neighbours, [int(new_s[0]),int(new_s[1])+1]])\n",
    "            if Y[int(new_s[0]),int(new_s[1])-1]!=0:\n",
    "                neighbours = np.vstack([neighbours, [int(new_s[0]),int(new_s[1])-1]])  \n",
    "            if Y[int(new_s[0])+1,int(new_s[1])]!=0:\n",
    "                neighbours = np.vstack([neighbours, [int(new_s[0])+1,int(new_s[1])]])\n",
    "    elif int(new_s[0]) == len(Y)-1:\n",
    "        if int(new_s[1]) ==0:\n",
    "            if Y[int(new_s[0]),len(Y)-1]!=0:\n",
    "                neighbours = np.vstack([neighbours, [int(new_s[0]),len(Y)-1]])\n",
    "            if Y[int(new_s[0]),int(new_s[1])+1]!=0:\n",
    "                neighbours = np.vstack([neighbours, [int(new_s[0]),int(new_s[1])+1]])  \n",
    "            if Y[int(new_s[0])-1,int(new_s[1])]!=0:\n",
    "                neighbours = np.vstack([neighbours, [int(new_s[0])-1,int(new_s[1])]])\n",
    "        elif int(new_s[1]) == len(Y)-1:\n",
    "            if Y[int(new_s[0]),int(new_s[1])-1]!=0:\n",
    "                neighbours = np.vstack([neighbours, [int(new_s[0]),int(new_s[1])-1]])\n",
    "            if Y[int(new_s[0]),0]!=0:\n",
    "                neighbours = np.vstack([neighbours, [int(new_s[0]),0]])  \n",
    "            if Y[int(new_s[0])-1,int(new_s[1])]!=0:\n",
    "                neighbours = np.vstack([neighbours, [int(new_s[0])-1,int(new_s[1])]])            \n",
    "        else:\n",
    "            if Y[int(new_s[0]),int(new_s[1])+1]!=0:\n",
    "                neighbours = np.vstack([neighbours, [int(new_s[0]),int(new_s[1])+1]])\n",
    "            if Y[int(new_s[0]),int(new_s[1])-1]!=0:\n",
    "                neighbours = np.vstack([neighbours, [int(new_s[0]),int(new_s[1])-1]])  \n",
    "            if Y[int(new_s[0])-1,int(new_s[1])]!=0:\n",
    "                neighbours = np.vstack([neighbours, [int(new_s[0])-1,int(new_s[1])]])           \n",
    "    elif int(new_s[1]) == 0:\n",
    "        if Y[int(new_s[0]),len(Y)-1]!=0:\n",
    "            neighbours = np.vstack([neighbours, [int(new_s[0]),len(Y)-1]])\n",
    "        if Y[int(new_s[0]),new_s[1]+1]!=0:\n",
    "            neighbours = np.vstack([neighbours, [int(new_s[0]),new_s[1]+1]])  \n",
    "        if Y[int(new_s[0])-1,int(new_s[1])]!=0:\n",
    "            neighbours = np.vstack([neighbours, [int(new_s[0])-1,int(new_s[1])]])\n",
    "        if Y[int(new_s[0])+1,int(new_s[1])]!=0:\n",
    "            neighbours = np.vstack([neighbours, [int(new_s[0])+1,int(new_s[1])]])\n",
    "    elif int(new_s[1]) == len(Y):\n",
    "        if Y[int(new_s[0]),0]!=0:\n",
    "            neighbours = np.vstack([neighbours, [int(new_s[0]),0]])\n",
    "        if Y[int(new_s[0]),int(new_s[1])-1]!=0:\n",
    "            neighbours = np.vstack([neighbours, [int(new_s[0]),int(new_s[1])-1]])  \n",
    "        if Y[int(new_s[0])-1,int(new_s[1])]!=0:\n",
    "            neighbours = np.vstack([neighbours, [int(new_s[0])-1,int(new_s[1])]])\n",
    "        if Y[int(new_s[0])+1,int(new_s[1])]!=0:\n",
    "            neighbours = np.vstack([neighbours, [int(new_s[0])+1,int(new_s[1])]])           \n",
    "    else:\n",
    "        for i in [-1,1]:\n",
    "            if Y[int(new_s[0])+i,int(new_s[1])]!=0:\n",
    "                neighbours = np.vstack([neighbours, [int(new_s[0])+i,int(new_s[1])] ])\n",
    "            if Y[int(new_s[0]),int(new_s[1])+i]!=0:\n",
    "                neighbours = np.vstack([neighbours, [int(new_s[0]),int(new_s[1])+i]] )\n",
    "    return neighbours\n"
   ]
  },
  {
   "cell_type": "code",
   "execution_count": 6,
   "metadata": {},
   "outputs": [],
   "source": [
    "def growth(Y, seed, neighbours, eta):\n",
    "    total = 0\n",
    "    prop = []\n",
    "    for s in seed:\n",
    "        Y[int(s[0]),int(s[1])] = 0\n",
    "\n",
    "    for n in neighbours:\n",
    "        total += abs((Y[int(n[0]),int(n[1])])**eta)\n",
    "        c_ij = (Y[int(n[0]),int(n[1])])**eta\n",
    "        prop.append(abs(c_ij))\n",
    "    prop = prop/total\n",
    "\n",
    "    index = random.choice(np.arange(len(neighbours)), p = prop)\n",
    "    new_s = neighbours[index] \n",
    "    seed = np.vstack([seed, new_s])\n",
    "    neighbours = np.delete(neighbours, index, axis = 0)\n",
    "    neighbours =  neighbours_function(new_s, Y, neighbours)\n",
    "    return Y, seed, neighbours\n"
   ]
  },
  {
   "cell_type": "code",
   "execution_count": 11,
   "metadata": {},
   "outputs": [],
   "source": [
    "def itter(seed, Y, eta, max_iter, neighbours):\n",
    "    for i in range(int(max_iter)):\n",
    "        Y, seed, neighbours = growth(Y, seed, neighbours, eta)\n",
    "        Y = update_SOR(Y, w, seed)\n",
    "        for s in seed:\n",
    "            if s[0]==1:\n",
    "                break\n",
    "        else:\n",
    "            continue\n",
    "        break\n",
    "    seed_grid = np.zeros((N,N))\n",
    "    \n",
    "    for i in seed:\n",
    "        seed_grid[int(i[0]), int(i[1])]=1\n",
    "    plt.imshow(seed_grid)\n",
    "    plt.show()\n",
    "    plt.imshow(Y)\n",
    "    plt.show()\n",
    "# Zorg dat wanneer je seed het platfond raakt hij niet verder groeit, anders neem hij heel de bovenkant over \n",
    "# we hebben nog steeds een afwijking naar rechts "
   ]
  },
  {
   "cell_type": "code",
   "execution_count": 12,
   "metadata": {},
   "outputs": [
    {
     "ename": "KeyboardInterrupt",
     "evalue": "",
     "output_type": "error",
     "traceback": [
      "\u001b[1;31m---------------------------------------------------------------------------\u001b[0m",
      "\u001b[1;31mKeyboardInterrupt\u001b[0m                         Traceback (most recent call last)",
      "\u001b[1;32m<ipython-input-12-458d4b222706>\u001b[0m in \u001b[0;36m<module>\u001b[1;34m\u001b[0m\n\u001b[0;32m      2\u001b[0m \u001b[0mseed\u001b[0m \u001b[1;33m=\u001b[0m \u001b[0mnp\u001b[0m\u001b[1;33m.\u001b[0m\u001b[0marray\u001b[0m\u001b[1;33m(\u001b[0m\u001b[1;33m[\u001b[0m\u001b[1;33m[\u001b[0m\u001b[0mN\u001b[0m\u001b[1;33m-\u001b[0m\u001b[1;36m1\u001b[0m\u001b[1;33m,\u001b[0m\u001b[0mround\u001b[0m\u001b[1;33m(\u001b[0m\u001b[1;33m(\u001b[0m\u001b[0mN\u001b[0m\u001b[1;33m-\u001b[0m\u001b[1;36m1\u001b[0m\u001b[1;33m)\u001b[0m\u001b[1;33m/\u001b[0m\u001b[1;36m2\u001b[0m\u001b[1;33m)\u001b[0m\u001b[1;33m]\u001b[0m\u001b[1;33m]\u001b[0m\u001b[1;33m)\u001b[0m\u001b[1;33m\u001b[0m\u001b[1;33m\u001b[0m\u001b[0m\n\u001b[0;32m      3\u001b[0m \u001b[0mneighbours\u001b[0m\u001b[1;33m=\u001b[0m \u001b[0mnp\u001b[0m\u001b[1;33m.\u001b[0m\u001b[0marray\u001b[0m\u001b[1;33m(\u001b[0m\u001b[1;33m[\u001b[0m\u001b[1;33m[\u001b[0m\u001b[0mN\u001b[0m\u001b[1;33m-\u001b[0m\u001b[1;36m2\u001b[0m\u001b[1;33m,\u001b[0m \u001b[0mround\u001b[0m\u001b[1;33m(\u001b[0m\u001b[1;33m(\u001b[0m\u001b[0mN\u001b[0m\u001b[1;33m-\u001b[0m\u001b[1;36m1\u001b[0m\u001b[1;33m)\u001b[0m\u001b[1;33m/\u001b[0m\u001b[1;36m2\u001b[0m\u001b[1;33m)\u001b[0m\u001b[1;33m]\u001b[0m\u001b[1;33m,\u001b[0m \u001b[1;33m[\u001b[0m\u001b[0mround\u001b[0m\u001b[1;33m(\u001b[0m\u001b[0mN\u001b[0m\u001b[1;33m-\u001b[0m\u001b[1;36m1\u001b[0m\u001b[1;33m)\u001b[0m\u001b[1;33m,\u001b[0m\u001b[0mround\u001b[0m\u001b[1;33m(\u001b[0m\u001b[1;33m(\u001b[0m\u001b[0mN\u001b[0m\u001b[1;33m-\u001b[0m\u001b[1;36m1\u001b[0m\u001b[1;33m)\u001b[0m\u001b[1;33m/\u001b[0m\u001b[1;36m2\u001b[0m\u001b[1;33m)\u001b[0m\u001b[1;33m-\u001b[0m\u001b[1;36m1\u001b[0m\u001b[1;33m]\u001b[0m\u001b[1;33m,\u001b[0m \u001b[1;33m[\u001b[0m\u001b[0mround\u001b[0m\u001b[1;33m(\u001b[0m\u001b[0mN\u001b[0m\u001b[1;33m-\u001b[0m\u001b[1;36m1\u001b[0m\u001b[1;33m)\u001b[0m\u001b[1;33m,\u001b[0m\u001b[0mround\u001b[0m\u001b[1;33m(\u001b[0m\u001b[1;33m(\u001b[0m\u001b[0mN\u001b[0m\u001b[1;33m-\u001b[0m\u001b[1;36m1\u001b[0m\u001b[1;33m)\u001b[0m\u001b[1;33m/\u001b[0m\u001b[1;36m2\u001b[0m\u001b[1;33m)\u001b[0m\u001b[1;33m+\u001b[0m\u001b[1;36m1\u001b[0m\u001b[1;33m]\u001b[0m\u001b[1;33m]\u001b[0m\u001b[1;33m)\u001b[0m\u001b[1;33m\u001b[0m\u001b[1;33m\u001b[0m\u001b[0m\n\u001b[1;32m----> 4\u001b[1;33m \u001b[0mitter\u001b[0m\u001b[1;33m(\u001b[0m\u001b[0mseed\u001b[0m\u001b[1;33m,\u001b[0m \u001b[0mY\u001b[0m\u001b[1;33m,\u001b[0m \u001b[1;36m1\u001b[0m\u001b[1;33m,\u001b[0m \u001b[1;36m1000\u001b[0m\u001b[1;33m,\u001b[0m \u001b[0mneighbours\u001b[0m\u001b[1;33m)\u001b[0m\u001b[1;33m\u001b[0m\u001b[1;33m\u001b[0m\u001b[0m\n\u001b[0m",
      "\u001b[1;32m<ipython-input-11-4c7031fb50a7>\u001b[0m in \u001b[0;36mitter\u001b[1;34m(seed, Y, eta, max_iter, neighbours)\u001b[0m\n\u001b[0;32m      2\u001b[0m     \u001b[1;32mfor\u001b[0m \u001b[0mi\u001b[0m \u001b[1;32min\u001b[0m \u001b[0mrange\u001b[0m\u001b[1;33m(\u001b[0m\u001b[0mint\u001b[0m\u001b[1;33m(\u001b[0m\u001b[0mmax_iter\u001b[0m\u001b[1;33m)\u001b[0m\u001b[1;33m)\u001b[0m\u001b[1;33m:\u001b[0m\u001b[1;33m\u001b[0m\u001b[1;33m\u001b[0m\u001b[0m\n\u001b[0;32m      3\u001b[0m         \u001b[0mY\u001b[0m\u001b[1;33m,\u001b[0m \u001b[0mseed\u001b[0m\u001b[1;33m,\u001b[0m \u001b[0mneighbours\u001b[0m \u001b[1;33m=\u001b[0m \u001b[0mgrowth\u001b[0m\u001b[1;33m(\u001b[0m\u001b[0mY\u001b[0m\u001b[1;33m,\u001b[0m \u001b[0mseed\u001b[0m\u001b[1;33m,\u001b[0m \u001b[0mneighbours\u001b[0m\u001b[1;33m,\u001b[0m \u001b[0meta\u001b[0m\u001b[1;33m)\u001b[0m\u001b[1;33m\u001b[0m\u001b[1;33m\u001b[0m\u001b[0m\n\u001b[1;32m----> 4\u001b[1;33m         \u001b[0mY\u001b[0m \u001b[1;33m=\u001b[0m \u001b[0mupdate_SOR\u001b[0m\u001b[1;33m(\u001b[0m\u001b[0mY\u001b[0m\u001b[1;33m,\u001b[0m \u001b[0mw\u001b[0m\u001b[1;33m,\u001b[0m \u001b[0mseed\u001b[0m\u001b[1;33m)\u001b[0m\u001b[1;33m\u001b[0m\u001b[1;33m\u001b[0m\u001b[0m\n\u001b[0m\u001b[0;32m      5\u001b[0m         \u001b[1;32mfor\u001b[0m \u001b[0ms\u001b[0m \u001b[1;32min\u001b[0m \u001b[0mseed\u001b[0m\u001b[1;33m:\u001b[0m\u001b[1;33m\u001b[0m\u001b[1;33m\u001b[0m\u001b[0m\n\u001b[0;32m      6\u001b[0m             \u001b[1;32mif\u001b[0m \u001b[0ms\u001b[0m\u001b[1;33m[\u001b[0m\u001b[1;36m0\u001b[0m\u001b[1;33m]\u001b[0m\u001b[1;33m==\u001b[0m\u001b[1;36m1\u001b[0m\u001b[1;33m:\u001b[0m\u001b[1;33m\u001b[0m\u001b[1;33m\u001b[0m\u001b[0m\n",
      "\u001b[1;32m<ipython-input-9-08d5db184ece>\u001b[0m in \u001b[0;36mupdate_SOR\u001b[1;34m(Y, w, seed)\u001b[0m\n\u001b[0;32m     27\u001b[0m \u001b[1;31m#             print(Y[j,i])\u001b[0m\u001b[1;33m\u001b[0m\u001b[1;33m\u001b[0m\u001b[1;33m\u001b[0m\u001b[0m\n\u001b[0;32m     28\u001b[0m             \u001b[1;32mfor\u001b[0m \u001b[0ms\u001b[0m \u001b[1;32min\u001b[0m \u001b[0mseed\u001b[0m\u001b[1;33m:\u001b[0m\u001b[1;33m\u001b[0m\u001b[1;33m\u001b[0m\u001b[0m\n\u001b[1;32m---> 29\u001b[1;33m                 \u001b[0mY\u001b[0m\u001b[1;33m[\u001b[0m\u001b[0mint\u001b[0m\u001b[1;33m(\u001b[0m\u001b[0ms\u001b[0m\u001b[1;33m[\u001b[0m\u001b[1;36m0\u001b[0m\u001b[1;33m]\u001b[0m\u001b[1;33m)\u001b[0m\u001b[1;33m,\u001b[0m\u001b[0mint\u001b[0m\u001b[1;33m(\u001b[0m\u001b[0ms\u001b[0m\u001b[1;33m[\u001b[0m\u001b[1;36m1\u001b[0m\u001b[1;33m]\u001b[0m\u001b[1;33m)\u001b[0m\u001b[1;33m]\u001b[0m \u001b[1;33m=\u001b[0m \u001b[1;36m0\u001b[0m\u001b[1;33m\u001b[0m\u001b[1;33m\u001b[0m\u001b[0m\n\u001b[0m\u001b[0;32m     30\u001b[0m     \u001b[1;32mreturn\u001b[0m\u001b[1;33m(\u001b[0m\u001b[0mY\u001b[0m\u001b[1;33m)\u001b[0m\u001b[1;33m\u001b[0m\u001b[1;33m\u001b[0m\u001b[0m\n",
      "\u001b[1;31mKeyboardInterrupt\u001b[0m: "
     ]
    }
   ],
   "source": [
    "Y = np.copy(grid)\n",
    "seed = np.array([[N-1,round((N-1)/2)]])\n",
    "neighbours= np.array([[N-2, round((N-1)/2)], [round(N-1),round((N-1)/2)-1], [round(N-1),round((N-1)/2)+1]])\n",
    "itter(seed, Y, 1, 1000, neighbours)"
   ]
  },
  {
   "cell_type": "code",
   "execution_count": null,
   "metadata": {},
   "outputs": [],
   "source": []
  }
 ],
 "metadata": {
  "kernelspec": {
   "display_name": "Python 3",
   "language": "python",
   "name": "python3"
  },
  "language_info": {
   "codemirror_mode": {
    "name": "ipython",
    "version": 3
   },
   "file_extension": ".py",
   "mimetype": "text/x-python",
   "name": "python",
   "nbconvert_exporter": "python",
   "pygments_lexer": "ipython3",
   "version": "3.8.3"
  }
 },
 "nbformat": 4,
 "nbformat_minor": 4
}
