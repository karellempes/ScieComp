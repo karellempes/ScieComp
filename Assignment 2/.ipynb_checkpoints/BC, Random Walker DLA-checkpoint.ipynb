{
 "cells": [
  {
   "cell_type": "code",
   "execution_count": null,
   "metadata": {},
   "outputs": [],
   "source": [
    "import math\n",
    "import numpy as np \n",
    "import matplotlib.pyplot as plt \n",
    "from numpy import random \n",
    "import sys\n",
    "np.set_printoptions(threshold=sys.maxsize)"
   ]
  },
  {
   "cell_type": "code",
   "execution_count": null,
   "metadata": {},
   "outputs": [],
   "source": [
    "#initialize the values\n",
    "N = 100\n",
    "D = 1\n",
    "dx = 1/N\n",
    "w = 1.9\n",
    "e = 10**(-5)\n",
    "eta = 2\n",
    "max_iter = (N*N)/2"
   ]
  },
  {
   "cell_type": "code",
   "execution_count": null,
   "metadata": {},
   "outputs": [],
   "source": [
    "def init_MC(N):\n",
    "    '''\n",
    "    Initialize a grid with all zeros\n",
    "    Args:\n",
    "        -N the size of the grid\n",
    "    Out: the initial state of the grid\n",
    "    '''\n",
    "    grid = np.zeros((N,N))\n",
    "    return grid\n",
    "grid = init_MC(N)"
   ]
  },
  {
   "cell_type": "code",
   "execution_count": null,
   "metadata": {},
   "outputs": [],
   "source": [
    "def neighbours_MC(current_pos, grid, neighbours, seed):\n",
    "    neighbour_candidates = np.array([seed[0]])\n",
    "    for i in [-1, 1]:\n",
    "        if current_pos[0] + i >0 or current_pos[0] + i < len(grid):\n",
    "            neighbour_candidates = np.vstack([neighbour_candidates, [current_pos[0]+i, current_pos[1]]])\n",
    "        if current_pos[1]+i == len(grid):\n",
    "            neighbour_candidates = np.vstack([neighbour_candidates, [current_pos[0], 0]])\n",
    "        elif current_pos[1]+i == -1:\n",
    "            neighbour_candidates = np.vstack([neighbour_candidates, [current_pos[0], len(grid)-1]])\n",
    "        else:\n",
    "            neighbour_candidates = np.vstack([neighbour_candidates, [current_pos[0], current_pos[1]+i]])\n",
    "    clear = True\n",
    "    for n in neighbour_candidates:\n",
    "        for s in seed:\n",
    "            if (n==s).all():\n",
    "                clear = False\n",
    "        for ne in neighbours:\n",
    "            if (n==ne).all():\n",
    "                clear = False\n",
    "        if clear == True:\n",
    "            neighbours = np.vstack([neighbours, n])\n",
    "        else:\n",
    "            clear = True\n",
    "    return neighbours"
   ]
  },
  {
   "cell_type": "code",
   "execution_count": 2,
   "metadata": {},
   "outputs": [],
   "source": [
    "def random_walker(grid, seed, neighbours, max_iter, p_s):\n",
    "    current_pos = [0, random.randint(0, len(grid)-1)]\n",
    "    #current_pos = [0, seed[0, 1]]\n",
    "    for i in range(max_iter):\n",
    "        move_dir = random.randint(0, 4)\n",
    "        if move_dir == 0:\n",
    "            new_pos = [current_pos[0]-1, current_pos[1]]\n",
    "        elif move_dir == 1:\n",
    "            new_pos = [current_pos[0]+1, current_pos[1]]\n",
    "        elif move_dir == 2:\n",
    "            new_pos = [current_pos[0], current_pos[1]+1]\n",
    "        elif move_dir == 3:\n",
    "            new_pos = [current_pos[0], current_pos[1]-1]\n",
    "        if new_pos[0] < 0 or new_pos[0] >= len(grid):\n",
    "            current_pos = [0, random.randint(0, len(grid)-1)]\n",
    "        elif new_pos[1] < 0:\n",
    "            current_pos = [new_pos[0], len(grid)-1]\n",
    "        elif new_pos[1] >= len(grid):\n",
    "            current_pos = [new_pos[0], 0]\n",
    "        for s in seed:\n",
    "            if (new_pos == s).all():\n",
    "                continue\n",
    "        else:\n",
    "            current_pos = new_pos\n",
    "        delete_index = -1\n",
    "        for j in range(len(neighbours)):\n",
    "            new_neighbours = neighbours\n",
    "            if (neighbours[j] == current_pos).all():\n",
    "                #print(True)\n",
    "                delete_index = j\n",
    "                break\n",
    "        if(delete_index >=0):\n",
    "            rand = random.random()\n",
    "            if rand > p_s:\n",
    "                seed = np.vstack([seed, neighbours[delete_index]])\n",
    "                grid[neighbours[delete_index, 0], neighbours[delete_index, 1]] = 1\n",
    "                #print(seed)\n",
    "                #print(delete_index)\n",
    "                neighbours = np.delete(neighbours, delete_index, axis = 0)\n",
    "                #print(neighbours)\n",
    "                neighbours = neighbours_MC(current_pos, grid, neighbours, seed)\n",
    "                #print(neighbours)\n",
    "                current_pos = [0, random.randint(0, len(grid)-1)]\n",
    "    return(grid)"
   ]
  },
  {
   "cell_type": "code",
   "execution_count": null,
   "metadata": {},
   "outputs": [],
   "source": [
    "seed = np.array([[N-1,round((N-1)/2)]])\n",
    "neighbours= np.array([[round(N-1),round((N-1)/2)-1], [round(N-1),round((N-1)/2)+1]])\n",
    "neighbours_MC([N-2, round((N-1)/2)], grid, neighbours, seed)"
   ]
  },
  {
   "cell_type": "code",
   "execution_count": null,
   "metadata": {},
   "outputs": [],
   "source": [
    "Y = np.copy(grid)\n",
    "seed = np.array([[N-1,round((N-1)/2)]])\n",
    "Y[seed[0, 0],seed[0, 1]] = 1\n",
    "# plt.imshow(Y)\n",
    "# plt.show()\n",
    "neighbours= np.array([[N-2, round((N-1)/2)], [round(N-1),round((N-1)/2)-1], [round(N-1),round((N-1)/2)+1]])\n",
    "Y = random_walker(Y, seed, neighbours, 5000000)\n",
    "plt.imshow(Y)\n",
    "plt.show()\n",
    "\n",
    "# fix stop conditie"
   ]
  },
  {
   "cell_type": "markdown",
   "metadata": {},
   "source": [
    "C"
   ]
  },
  {
   "cell_type": "code",
   "execution_count": null,
   "metadata": {},
   "outputs": [],
   "source": [
    "# fix plak functie \n"
   ]
  }
 ],
 "metadata": {
  "kernelspec": {
   "display_name": "Python 3",
   "language": "python",
   "name": "python3"
  },
  "language_info": {
   "codemirror_mode": {
    "name": "ipython",
    "version": 3
   },
   "file_extension": ".py",
   "mimetype": "text/x-python",
   "name": "python",
   "nbconvert_exporter": "python",
   "pygments_lexer": "ipython3",
   "version": "3.8.3"
  }
 },
 "nbformat": 4,
 "nbformat_minor": 4
}
