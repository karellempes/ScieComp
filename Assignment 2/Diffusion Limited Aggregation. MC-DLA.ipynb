{
 "cells": [
  {
   "cell_type": "code",
   "execution_count": 1,
   "metadata": {},
   "outputs": [],
   "source": [
    "import math\n",
    "import numpy as np \n",
    "import matplotlib.pyplot as plt \n",
    "from numpy import random \n",
    "import sys\n",
    "np.set_printoptions(threshold=sys.maxsize)"
   ]
  },
  {
   "cell_type": "code",
   "execution_count": 2,
   "metadata": {},
   "outputs": [],
   "source": [
    "#initialize the values\n",
    "N = 100\n",
    "D = 1\n",
    "dx = 1/N\n",
    "w = 1.9\n",
    "e = 10**(-5)\n",
    "eta = 2\n",
    "max_iter = (N*N)/2"
   ]
  },
  {
   "cell_type": "code",
   "execution_count": 61,
   "metadata": {},
   "outputs": [],
   "source": [
    "def update_SOR(Y, w, seed):\n",
    "    '''\n",
    "    The SOR method grid update function\n",
    "    Args:\n",
    "        -Y, the grid at the current timestep\n",
    "        -w, the omega constant\n",
    "        -N, the size of the grid\n",
    "    Out:\n",
    "        -Y, the grid at the next timestep\n",
    "    '''\n",
    "    \n",
    "    #update the grid at position i, j and take boundary conditions into account\n",
    "    for j in range(1, len(Y)-1):\n",
    "        for i in range(len(Y)):\n",
    "            if i == 0:\n",
    "                 Y[j,i] = (1-w)*Y[j,i] + (w/4) * (Y[j+1,i] + Y[j-1,i] + Y[j,i+1] + Y[j,-1]) \n",
    "            elif i == N-1:\n",
    "                 Y[j,i] = (1-w)*Y[j,i] + (w/4) * (Y[j+1,i] + Y[j-1,i] + Y[j,0] + Y[j,i-1]) \n",
    "            else:\n",
    "                 Y[j,i] = (1-w)*Y[j,i] + (w/4) * (Y[j+1,i] + Y[j-1,i] + Y[j,i+1] + Y[j,i-1])  \n",
    "            if Y[j,i]<0:\n",
    "                Y[j,i] = 0\n",
    "            for s in seed:\n",
    "                Y[int(s[0]),int(s[1])] = 0\n",
    "    return(Y)  "
   ]
  },
  {
   "cell_type": "code",
   "execution_count": 56,
   "metadata": {},
   "outputs": [],
   "source": [
    "def init(N, seed):\n",
    "    '''\n",
    "    Initialize a grid with all zeros except on the first row where the value is all ones\n",
    "    Args:\n",
    "        -N the size of the grid\n",
    "    Out: the initial state of the grid\n",
    "    '''\n",
    "    k = 1\n",
    "    Y = np.zeros((N,N))\n",
    "    Y[0] = np.ones(N)\n",
    "    Y_prev = np.copy(Y)\n",
    "    Y = update_SOR(Y, w, seed)\n",
    "    #calculate the difference between the last two iterations\n",
    "    diff = np.abs(Y - Y_prev)\n",
    "    diff_val = (np.amax(diff))\n",
    "    #until the differnce is smaller than epsilon, update the grid\n",
    "    while(diff_val > e):\n",
    "        k = k+1\n",
    "        Y_prev = np.copy(Y)\n",
    "        Y = update_SOR(Y, w, seed)\n",
    "        diff = np.abs(Y - Y_prev)\n",
    "        diff_val = (np.amax(diff))\n",
    "    return Y\n"
   ]
  },
  {
   "cell_type": "code",
   "execution_count": 51,
   "metadata": {},
   "outputs": [],
   "source": [
    "def neighbours_function2(new_s, Y, neighbours):\n",
    "    x = 0\n",
    "    y = 1\n",
    "    if int(new_s[y]) == 0:\n",
    "        if int(new_s[x]) ==0:\n",
    "            if Y[int(new_s[y]),int(new_s[x])+1]!=0:\n",
    "                neighbours = np.vstack([neighbours, [int(new_s[y]),int(new_s[x])+1]])\n",
    "            if Y[int(new_s[y]),len(Y)-1]!=0:\n",
    "                neighbours = np.vstack([neighbours, [int(new_s[y]),len(Y)-1]])\n",
    "            if Y[int(new_s[y]-1),int(new_s[x])]!=0:\n",
    "                neighbours = np.vstack([neighbours, [int(new_s[y]+1),int(new_s[x])]])\n",
    "\n",
    "        elif int(new_s[x]) == len(Y)-1:\n",
    "            if Y[int(new_s[y]),0]!=0:\n",
    "                neighbours = np.vstack([neighbours, [int(new_s[y]),0]])\n",
    "            if Y[int(new_s[y]),int(new_s[x])-1]!=0:\n",
    "                neighbours = np.vstack([neighbours, [int(new_s[y]),int(new_s[x])-1]])\n",
    "            if Y[int(new_s[y]+1),int(new_s[x])]!=0:\n",
    "                neighbours = np.vstack([neighbours, [int(new_s[y]+1),int(new_s[x])]])\n",
    "\n",
    "        else:\n",
    "            if Y[int(new_s[y]),int(new_s[x])-1]!=0:\n",
    "                neighbours = np.vstack([neighbours, [int(new_s[y]),int(new_s[x])-1]])\n",
    "            if Y[int(new_s[y]),int(new_s[x])+1]!=0:\n",
    "                neighbours = np.vstack([neighbours, [int(new_s[y]),int(new_s[x])+1]])\n",
    "            if Y[int(new_s[y]),int(new_s[x])]!=0:\n",
    "                neighbours = np.vstack([neighbours, [int(new_s[y]+1),int(new_s[x])]])\n",
    "\n",
    "    elif int(new_s[x]) == 0:\n",
    "            if Y[int(new_s[y]),int(new_s[x])+1]!=0:\n",
    "                neighbours = np.vstack([neighbours, [int(new_s[y]),int(new_s[x])+1]])\n",
    "            if Y[int(new_s[y]),len(Y)-1]!=0:\n",
    "                neighbours = np.vstack([neighbours, [int(new_s[y]),len(Y)-1]])\n",
    "            if Y[int(new_s[y])+1,int(new_s[x])]!=0:\n",
    "                neighbours = np.vstack([neighbours, [int(new_s[y])+1,int(new_s[x])]])\n",
    "            if Y[int(new_s[y])-1,int(new_s[x])]!=0:\n",
    "                neighbours = np.vstack([neighbours, [int(new_s[y])-1,int(new_s[x])]])\n",
    "\n",
    "    elif int(new_s[x]) == len(Y)-1:\n",
    "            if Y[int(new_s[y]),int(new_s[x])-1]!=0:\n",
    "                neighbours = np.vstack([neighbours, [int(new_s[y]),int(new_s[x])-1]])\n",
    "            if Y[int(new_s[y]),0]!=0:\n",
    "                neighbours = np.vstack([neighbours, [int(new_s[y]),0]])\n",
    "            if Y[int(new_s[y])-1,int(new_s[x])]!=0:\n",
    "                neighbours = np.vstack([neighbours, [int(new_s[y])-1,int(new_s[x])]])\n",
    "            if Y[int(new_s[y])+1,int(new_s[x])]!=0:\n",
    "                neighbours = np.vstack([neighbours, [int(new_s[y])+1,int(new_s[x])]])\n",
    "       \n",
    "    else:\n",
    "        print(new_s)\n",
    "        for i in [-1,1]:\n",
    "            if Y[int(new_s[x])+i,int(new_s[y])]!=0:\n",
    "                neighbours = np.vstack([neighbours, [int(new_s[y]) ,int(new_s[x])+i ]])\n",
    "            if Y[int(new_s[x]),int(new_s[y])+i]!=0:\n",
    "                neighbours = np.vstack([neighbours, [int(new_s[y])+i, int(new_s[x])]] )\n",
    "    return neighbours\n"
   ]
  },
  {
   "cell_type": "code",
   "execution_count": 52,
   "metadata": {},
   "outputs": [],
   "source": [
    "def neighbours_function(new_s, Y, neighbours):\n",
    "    if int(new_s[0]) == 0:\n",
    "        if int(new_s[1]) ==0:\n",
    "            if Y[int(new_s[0]),len(Y)-1]!=0:\n",
    "                neighbours = np.vstack([neighbours, [int(new_s[0]),len(Y)-1]])\n",
    "            if Y[int(new_s[0]),int(new_s[1])+1]!=0:\n",
    "                neighbours = np.vstack([neighbours, [int(new_s[0]),int(new_s[1])+1]])  \n",
    "            if Y[int(new_s[0])+1,int(new_s[1])]!=0:\n",
    "                neighbours = np.vstack([neighbours, [int(new_s[0])+1,int(new_s[1])]])\n",
    "        elif int(new_s[1]) == len(Y)-1:\n",
    "            if Y[int(new_s[0]),int(new_s[1])-1]!=0:\n",
    "                neighbours = np.vstack([neighbours, [int(new_s[0]),int(new_s[1])-1]])\n",
    "            if Y[int(new_s[0]),0]!=0:\n",
    "                neighbours = np.vstack([neighbours, [int(new_s[0]),0]])  \n",
    "            if Y[int(new_s[0])+1,int(new_s[1])]!=0:\n",
    "                neighbours = np.vstack([neighbours, [int(new_s[0])+1,int(new_s[1])]])            \n",
    "        else:\n",
    "            if Y[int(new_s[0]),int(new_s[1])+1]!=0:\n",
    "                neighbours = np.vstack([neighbours, [int(new_s[0]),int(new_s[1])+1]])\n",
    "            if Y[int(new_s[0]),int(new_s[1])-1]!=0:\n",
    "                neighbours = np.vstack([neighbours, [int(new_s[0]),int(new_s[1])-1]])  \n",
    "            if Y[int(new_s[0])+1,int(new_s[1])]!=0:\n",
    "                neighbours = np.vstack([neighbours, [int(new_s[0])+1,int(new_s[1])]])\n",
    "    elif int(new_s[1]) == 0:\n",
    "        if Y[int(new_s[0]),len(Y)-1]!=0:\n",
    "            neighbours = np.vstack([neighbours, [int(new_s[0]),len(Y)-1]])\n",
    "        if Y[int(new_s[0]),new_s[1]+1]!=0:\n",
    "            neighbours = np.vstack([neighbours, [int(new_s[0]),new_s[1]+1]])  \n",
    "        if Y[int(new_s[0])-1,int(new_s[1])]!=0:\n",
    "            neighbours = np.vstack([neighbours, [int(new_s[0])-1,int(new_s[1])]])\n",
    "        if Y[int(new_s[0])+1,int(new_s[1])]!=0:\n",
    "            neighbours = np.vstack([neighbours, [int(new_s[0])+1,int(new_s[1])]])\n",
    "    elif int(new_s[1]) == len(Y)-1:\n",
    "        if Y[int(new_s[0]),0]!=0:\n",
    "            neighbours = np.vstack([neighbours, [int(new_s[0]),0]])\n",
    "        if Y[int(new_s[0]),int(new_s[1])-1]!=0:\n",
    "            neighbours = np.vstack([neighbours, [int(new_s[0]),int(new_s[1])-1]])  \n",
    "        if Y[int(new_s[0])-1,int(new_s[1])]!=0:\n",
    "            neighbours = np.vstack([neighbours, [int(new_s[0])-1,int(new_s[1])]])\n",
    "        if Y[int(new_s[0])+1,int(new_s[1])]!=0:\n",
    "            neighbours = np.vstack([neighbours, [int(new_s[0])+1,int(new_s[1])]])           \n",
    "    else:\n",
    "        for i in [-1,1]:\n",
    "            if Y[int(new_s[0])+i,int(new_s[1])]!=0:\n",
    "                neighbours = np.vstack([neighbours, [int(new_s[0])+i,int(new_s[1])] ])\n",
    "            if Y[int(new_s[0]),int(new_s[1])+i]!=0:\n",
    "                neighbours = np.vstack([neighbours, [int(new_s[0]),int(new_s[1])+i]] )\n",
    "    return neighbours\n"
   ]
  },
  {
   "cell_type": "code",
   "execution_count": 53,
   "metadata": {},
   "outputs": [],
   "source": [
    "def growth(Y, seed, neighbours, eta):\n",
    "    total = 0\n",
    "    prop = []\n",
    "    for s in seed:\n",
    "        Y[int(s[0]),int(s[1])] = 0\n",
    "\n",
    "    for n in neighbours:\n",
    "        total += abs((Y[int(n[0]),int(n[1])])**eta)\n",
    "        c_ij = (Y[int(n[0]),int(n[1])])**eta\n",
    "        prop.append(abs(c_ij))\n",
    "    prop = prop/total\n",
    "#     if total == 0:\n",
    "#         print(stop)\n",
    "\n",
    "#     test = Y<0\n",
    "\n",
    "    index = random.choice(np.arange(len(neighbours)), p = prop)\n",
    "    new_s = neighbours[index] \n",
    "    seed = np.vstack([seed, new_s])\n",
    "    neighbours = np.delete(neighbours, index, axis = 0)\n",
    "    neighbours =  neighbours_function(new_s, Y, neighbours)\n",
    "    return Y, seed, neighbours\n"
   ]
  },
  {
   "cell_type": "code",
   "execution_count": 54,
   "metadata": {},
   "outputs": [],
   "source": [
    "def itter(seed, Y, eta, max_iter, neighbours):\n",
    "    for i in range(int(max_iter)):\n",
    "        Y, seed, neighbours = growth(Y, seed, neighbours, eta)\n",
    "        Y = update_SOR(Y, w, seed)\n",
    "    seed_grid = np.zeros((N,N))\n",
    "    \n",
    "    for i in seed:\n",
    "        seed_grid[int(i[0]), int(i[1])]=1\n",
    "    plt.imshow(seed_grid)\n",
    "    plt.show()\n",
    "    plt.imshow(Y)\n",
    "    plt.show()\n",
    "# Zorg dat wanneer je seed het platfond raakt hij niet verder groeit, anders neem hij heel de bovenkant over \n",
    "# we hebben nog steeds een afwijking naar rechts "
   ]
  },
  {
   "cell_type": "code",
   "execution_count": 64,
   "metadata": {},
   "outputs": [],
   "source": [
    "N=100\n",
    "seed = np.array([[N-1,round((N-1)/2)]])\n",
    "grid = init(N, seed)"
   ]
  },
  {
   "cell_type": "code",
   "execution_count": 66,
   "metadata": {},
   "outputs": [
    {
     "data": {
      "image/png": "[encoded data removed]",
      "text/plain": [
       "<Figure size 432x288 with 1 Axes>"
      ]
     },
     "metadata": {
      "needs_background": "light"
     },
     "output_type": "display_data"
    },
    {
     "data": {
      "image/png": "[encoded data removed]",
      "text/plain": [
       "<Figure size 432x288 with 1 Axes>"
      ]
     },
     "metadata": {
      "needs_background": "light"
     },
     "output_type": "display_data"
    }
   ],
   "source": [
    "Y = np.copy(grid)\n",
    "neighbours= np.array([[N-2, round((N-1)/2)], [round(N-1),round((N-1)/2)-1], [round(N-1),round((N-1)/2)+1]])\n",
    "itter(seed, Y, 1, 50, neighbours)"
   ]
  },
  {
   "cell_type": "markdown",
   "metadata": {},
   "source": [
    "B"
   ]
  },
  {
   "cell_type": "code",
   "execution_count": 13,
   "metadata": {},
   "outputs": [],
   "source": [
    "def init_MC(N):\n",
    "    '''\n",
    "    Initialize a grid with all zeros\n",
    "    Args:\n",
    "        -N the size of the grid\n",
    "    Out: the initial state of the grid\n",
    "    '''\n",
    "    grid = np.zeros((N,N))\n",
    "    return grid\n",
    "grid = init_MC(40)"
   ]
  },
  {
   "cell_type": "code",
   "execution_count": 17,
   "metadata": {},
   "outputs": [],
   "source": [
    "def neighbours_MC(current_pos, grid, neighbours, seed):\n",
    "    neighbour_candidates = np.array([seed[0]])\n",
    "    for i in [-1, 1]:\n",
    "        if current_pos[0] + i >0 or current_pos[0] + i < len(grid):\n",
    "            neighbour_candidates = np.vstack([neighbour_candidates, [current_pos[0]+i, current_pos[1]]])\n",
    "        if current_pos[1]+i == len(grid):\n",
    "            neighbour_candidates = np.vstack([neighbour_candidates, [current_pos[0], 0]])\n",
    "        elif current_pos[1]+i == -1:\n",
    "            neighbour_candidates = np.vstack([neighbour_candidates, [current_pos[0], len(grid)-1]])\n",
    "        else:\n",
    "            neighbour_candidates = np.vstack([neighbour_candidates, [current_pos[0], current_pos[1]+i]])\n",
    "    clear = True\n",
    "    for n in neighbour_candidates:\n",
    "        for s in seed:\n",
    "            if (n==s).all():\n",
    "                clear = False\n",
    "        for ne in neighbours:\n",
    "            if (n==ne).all():\n",
    "                clear = False\n",
    "        if clear == True:\n",
    "            neighbours = np.vstack([neighbours, n])\n",
    "        else:\n",
    "            clear = True\n",
    "    return neighbours\n"
   ]
  },
  {
   "cell_type": "code",
   "execution_count": 19,
   "metadata": {},
   "outputs": [
    {
     "data": {
      "text/plain": [
       "array([[99, 49],\n",
       "       [99, 51],\n",
       "       [97, 50],\n",
       "       [98, 49],\n",
       "       [98, 51]])"
      ]
     },
     "execution_count": 19,
     "metadata": {},
     "output_type": "execute_result"
    }
   ],
   "source": [
    "seed = np.array([[N-1,round((N-1)/2)]])\n",
    "neighbours= np.array([[round(N-1),round((N-1)/2)-1], [round(N-1),round((N-1)/2)+1]])\n",
    "\n",
    "neighbours_MC([N-2, round((N-1)/2)], grid, neighbours, seed)"
   ]
  },
  {
   "cell_type": "code",
   "execution_count": 45,
   "metadata": {},
   "outputs": [],
   "source": [
    "def random_walker(grid, seed, neighbours, max_iter):\n",
    "    current_pos = [0, random.randint(0, len(grid)-1)]\n",
    "    #current_pos = [0, seed[0, 1]]\n",
    "    for i in range(max_iter):\n",
    "        move_dir = random.randint(0, 4)\n",
    "        if move_dir == 0:\n",
    "            new_pos = [current_pos[0]-1, current_pos[1]]\n",
    "        elif move_dir == 1:\n",
    "            new_pos = [current_pos[0]+1, current_pos[1]]\n",
    "        elif move_dir == 2:\n",
    "            new_pos = [current_pos[0], current_pos[1]+1]\n",
    "        elif move_dir == 3:\n",
    "            new_pos = [current_pos[0], current_pos[1]-1]\n",
    "        if new_pos[0] < 0 or new_pos[0] >= len(grid):\n",
    "            current_pos = [0, random.randint(0, len(grid)-1)]\n",
    "        elif new_pos[1] < 0:\n",
    "            current_pos = [new_pos[0], len(grid)-1]\n",
    "        elif new_pos[1] >= len(grid):\n",
    "            current_pos = [new_pos[0], 0]\n",
    "        else:\n",
    "            current_pos = new_pos\n",
    "        delete_index = -1\n",
    "        for j in range(len(neighbours)):\n",
    "            new_neighbours = neighbours\n",
    "            if (neighbours[j] == current_pos).all():\n",
    "                #print(True)\n",
    "                delete_index = j\n",
    "                break\n",
    "        if(delete_index >=0):\n",
    "            seed = np.vstack([seed, neighbours[delete_index]])\n",
    "            grid[neighbours[delete_index, 0], neighbours[delete_index, 1]] = 1\n",
    "            #print(seed)\n",
    "            #print(delete_index)\n",
    "            neighbours = np.delete(neighbours, delete_index, axis = 0)\n",
    "            #print(neighbours)\n",
    "            neighbours = neighbours_MC(current_pos, grid, neighbours, seed)\n",
    "            #print(neighbours)\n",
    "            current_pos = [0, random.randint(0, len(grid)-1)]\n",
    "    return(grid)"
   ]
  },
  {
   "cell_type": "code",
   "execution_count": 47,
   "metadata": {},
   "outputs": [
    {
     "data": {
      "image/png": "[encoded data removed]",
      "text/plain": [
       "<Figure size 432x288 with 1 Axes>"
      ]
     },
     "metadata": {
      "needs_background": "light"
     },
     "output_type": "display_data"
    }
   ],
   "source": [
    "N=40\n",
    "Y = np.copy(grid)\n",
    "seed = np.array([[N-1,round((N-1)/2)]])\n",
    "Y[seed[0, 0],seed[0, 1]] = 1\n",
    "# plt.imshow(Y)\n",
    "# plt.show()\n",
    "neighbours= np.array([[N-2, round((N-1)/2)], [round(N-1),round((N-1)/2)-1], [round(N-1),round((N-1)/2)+1]])\n",
    "Y = random_walker(Y, seed, neighbours, 500000)\n",
    "plt.imshow(Y)\n",
    "plt.show()"
   ]
  },
  {
   "cell_type": "code",
   "execution_count": null,
   "metadata": {},
   "outputs": [],
   "source": []
  },
  {
   "cell_type": "code",
   "execution_count": null,
   "metadata": {},
   "outputs": [],
   "source": [
    "#     if int(new_s[0]) == 0:\n",
    "#         if int(new_s[1]) ==0:\n",
    "#             if Y[int(new_s[0]),len(Y)-1]!=0:\n",
    "#                 neighbours = np.vstack([neighbours, [int(new_s[0]),len(Y)-1]])\n",
    "#             if Y[int(new_s[0]),int(new_s[1])+1]!=0:\n",
    "#                 neighbours = np.vstack([neighbours, [int(new_s[0]),int(new_s[1])+1]])  \n",
    "#             if Y[int(new_s[0])+1,int(new_s[1])]!=0:\n",
    "#                 neighbours = np.vstack([neighbours, [int(new_s[0])+1,int(new_s[1])]])\n",
    "#         elif int(new_s[1]) == len(Y)-1:\n",
    "#             if Y[int(new_s[0]),int(new_s[1])-1]!=0:\n",
    "#                 neighbours = np.vstack([neighbours, [int(new_s[0]),int(new_s[1])-1]])\n",
    "#             if Y[int(new_s[0]),0]!=0:\n",
    "#                 neighbours = np.vstack([neighbours, [int(new_s[0]),0]])  \n",
    "#             if Y[int(new_s[0])+1,int(new_s[1])]!=0:\n",
    "#                 neighbours = np.vstack([neighbours, [int(new_s[0])+1,int(new_s[1])]])            \n",
    "#         else:\n",
    "#             if Y[int(new_s[0]),int(new_s[1])+1]!=0:\n",
    "#                 neighbours = np.vstack([neighbours, [int(new_s[0]),int(new_s[1])+1]])\n",
    "#             if Y[int(new_s[0]),int(new_s[1])-1]!=0:\n",
    "#                 neighbours = np.vstack([neighbours, [int(new_s[0]),int(new_s[1])-1]])  \n",
    "#             if Y[int(new_s[0])+1,int(new_s[1])]!=0:\n",
    "#                 neighbours = np.vstack([neighbours, [int(new_s[0])+1,int(new_s[1])]])\n",
    "#     elif int(new_s[1]) == 0:\n",
    "#         if Y[int(new_s[0]),len(Y)-1]!=0:\n",
    "#             neighbours = np.vstack([neighbours, [int(new_s[0]),len(Y)-1]])\n",
    "#         if Y[int(new_s[0]),new_s[1]+1]!=0:\n",
    "#             neighbours = np.vstack([neighbours, [int(new_s[0]),new_s[1]+1]])  \n",
    "#         if Y[int(new_s[0])-1,int(new_s[1])]!=0:\n",
    "#             neighbours = np.vstack([neighbours, [int(new_s[0])-1,int(new_s[1])]])\n",
    "#         if Y[int(new_s[0])+1,int(new_s[1])]!=0:\n",
    "#             neighbours = np.vstack([neighbours, [int(new_s[0])+1,int(new_s[1])]])\n",
    "#     elif int(new_s[1]) == len(Y)-1:\n",
    "#         if Y[int(new_s[0]),0]!=0:\n",
    "#             neighbours = np.vstack([neighbours, [int(new_s[0]),0]])\n",
    "#         if Y[int(new_s[0]),int(new_s[1])-1]!=0:\n",
    "#             neighbours = np.vstack([neighbours, [int(new_s[0]),int(new_s[1])-1]])  \n",
    "#         if Y[int(new_s[0])-1,int(new_s[1])]!=0:\n",
    "#             neighbours = np.vstack([neighbours, [int(new_s[0])-1,int(new_s[1])]])\n",
    "#         if Y[int(new_s[0])+1,int(new_s[1])]!=0:\n",
    "#             neighbours = np.vstack([neighbours, [int(new_s[0])+1,int(new_s[1])]])           \n",
    "#     else:\n",
    "#         for i in [-1,1]:\n",
    "#             if Y[int(new_s[0])+i,int(new_s[1])]!=0:\n",
    "#                 neighbours = np.vstack([neighbours, [int(new_s[0])+i,int(new_s[1])] ])\n",
    "#             if Y[int(new_s[0]),int(new_s[1])+i]!=0:\n",
    "#                 neighbours = np.vstack([neighbours, [int(new_s[0]),int(new_s[1])+i]] )"
   ]
  }
 ],
 "metadata": {
  "kernelspec": {
   "display_name": "Python 3",
   "language": "python",
   "name": "python3"
  },
  "language_info": {
   "codemirror_mode": {
    "name": "ipython",
    "version": 3
   },
   "file_extension": ".py",
   "mimetype": "text/x-python",
   "name": "python",
   "nbconvert_exporter": "python",
   "pygments_lexer": "ipython3",
   "version": "3.8.5"
  }
 },
 "nbformat": 4,
 "nbformat_minor": 4
}
