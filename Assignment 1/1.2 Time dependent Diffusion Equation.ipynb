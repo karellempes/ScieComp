{
 "cells": [
  {
   "cell_type": "code",
   "execution_count": 1,
   "metadata": {},
   "outputs": [],
   "source": [
    "import math\n",
    "import numpy as np \n",
    "import matplotlib.pyplot as plt \n",
    "from scipy import special as sp"
   ]
  },
  {
   "cell_type": "code",
   "execution_count": 54,
   "metadata": {},
   "outputs": [
    {
     "data": {
      "text/plain": [
       "1.0"
      ]
     },
     "execution_count": 54,
     "metadata": {},
     "output_type": "execute_result"
    }
   ],
   "source": [
    "N = 100\n",
    "dt = 0.000025\n",
    "dx = 1/100\n",
    "D = 1\n",
    "t_max = round(1/dt)\n",
    "\n",
    "4*(D*dt / (dx**2))"
   ]
  },
  {
   "cell_type": "code",
   "execution_count": 55,
   "metadata": {},
   "outputs": [],
   "source": [
    "def init(N):\n",
    "    grid = np.zeros((N,N))\n",
    "    grid[0] = np.ones(N)\n",
    "    return grid\n",
    "\n",
    "def update_dif(grid, D):\n",
    "    grid_old = np.copy(grid)\n",
    "    for j in range(1, len(grid)-1):\n",
    "        for i in range(len(grid)):\n",
    "            if i == 0:\n",
    "                 grid[j,i] = grid_old[j,i] + ( D*dt / (dx**2)) * (grid_old[j+1,i] + grid_old[j-1,i]+ grid_old[j,i+1] +grid_old[j,-1] -4 * grid_old[j,i]) \n",
    "            elif i == N-1:\n",
    "                 grid[j,i] = grid_old[j,i] + ( D*dt / (dx**2)) * (grid_old[j+1,i] + grid_old[j-1,i]+ grid_old[j,N-1] +grid_old[j,i-1] -4 * grid_old[j,i]) \n",
    "            else:\n",
    "                 grid[j,i] = grid_old[j,i] + ( D*dt / (dx**2)) * (grid_old[j+1,i] + grid_old[j-1,i]+ grid_old[j,i+1] +grid_old[j,i-1] -4 * grid_old[j,i])\n",
    "    return(grid)  "
   ]
  },
  {
   "cell_type": "code",
   "execution_count": null,
   "metadata": {},
   "outputs": [],
   "source": []
  },
  {
   "cell_type": "code",
   "execution_count": null,
   "metadata": {},
   "outputs": [
    {
     "name": "stdout",
     "output_type": "stream",
     "text": [
      "c =  0.0048702814496367\n"
     ]
    }
   ],
   "source": [
    "grid = init(N)\n",
    "z = 0.001\n",
    "y = np.linspace(0,1,100)\n",
    "for t in range(t_max):\n",
    "    grid = update_dif(grid, D)\n",
    "#     if t%100==0:\n",
    "#         plt.imshow(grid, cmap='hot')\n",
    "#         plt.show()\n",
    "    if t == 100:\n",
    "        print( \"c = \",grid[20,0])\n",
    "    if t >= z * t_max:\n",
    "        c_lijst = grid[:,0]\n",
    "        plt.plot(y, c_lijst, label = z )\n",
    "        z = z * 10\n",
    "plt.legend()\n",
    "plt.show()\n",
    "        "
   ]
  },
  {
   "cell_type": "code",
   "execution_count": 58,
   "metadata": {},
   "outputs": [],
   "source": [
    "def analytic(Y, t, t_max, D):\n",
    "    t = t * dt\n",
    "    c = 0\n",
    "    for i in range (t_max):\n",
    "        Z_neg = (1 - Y + 2*i) / (2* np.sqrt(D*t))\n",
    "        Z_pos = (1 + Y + 2*i) / (2* np.sqrt(D*t))\n",
    "        c = c + sp.erfc(Z_neg) - sp.erfc(Z_pos)\n",
    "#         print( sp.erfc(Z_neg), sp.erfc(Z_pos))\n",
    "    return c"
   ]
  },
  {
   "cell_type": "code",
   "execution_count": 59,
   "metadata": {},
   "outputs": [
    {
     "data": {
      "text/plain": [
       "1.1224297172982928e-29"
      ]
     },
     "execution_count": 59,
     "metadata": {},
     "output_type": "execute_result"
    }
   ],
   "source": [
    "analytic(0.20, 100, 1000, D)"
   ]
  },
  {
   "cell_type": "code",
   "execution_count": null,
   "metadata": {},
   "outputs": [],
   "source": []
  }
 ],
 "metadata": {
  "kernelspec": {
   "display_name": "Python 3",
   "language": "python",
   "name": "python3"
  },
  "language_info": {
   "codemirror_mode": {
    "name": "ipython",
    "version": 3
   },
   "file_extension": ".py",
   "mimetype": "text/x-python",
   "name": "python",
   "nbconvert_exporter": "python",
   "pygments_lexer": "ipython3",
   "version": "3.8.3"
  }
 },
 "nbformat": 4,
 "nbformat_minor": 4
}
