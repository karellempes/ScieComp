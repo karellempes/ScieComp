{
 "cells": [
  {
   "cell_type": "code",
   "execution_count": 1,
   "metadata": {},
   "outputs": [],
   "source": [
    "import math\n",
    "import numpy as np \n",
    "import matplotlib.pyplot as plt "
   ]
  },
  {
   "cell_type": "code",
   "execution_count": 2,
   "metadata": {},
   "outputs": [],
   "source": [
    "def init(N):\n",
    "    grid = np.zeros((N,N))\n",
    "    grid[0] = np.ones(N)\n",
    "    return grid"
   ]
  },
  {
   "cell_type": "code",
   "execution_count": 3,
   "metadata": {},
   "outputs": [],
   "source": [
    "def analytic(Y, t, t_max, D):\n",
    "    t = t * dt\n",
    "    c = 0\n",
    "    for i in range(t_max):\n",
    "        Z_neg = (1 - Y + 2*i) / (2* np.sqrt(D*t))\n",
    "        Z_pos = (1 + Y + 2*i) / (2* np.sqrt(D*t))\n",
    "        c = c + math.erfc(Z_neg) - math.erfc(Z_pos)\n",
    "    return c"
   ]
  },
  {
   "cell_type": "markdown",
   "metadata": {},
   "source": [
    "1.4 Jacobi iteration"
   ]
  },
  {
   "cell_type": "code",
   "execution_count": 5,
   "metadata": {},
   "outputs": [],
   "source": [
    "def update_J(Y):\n",
    "    Y_prev = np.copy(Y)\n",
    "    for j in range(1, len(Y)-1):\n",
    "        for i in range(len(Y)):\n",
    "            if i == 0:\n",
    "                 Y[j,i] = (1/4) * (Y_prev[j+1,i] + Y_prev[j-1,i]+ Y_prev[j,i+1] +Y_prev[j,-1] -4 * Y_prev[j,i]) \n",
    "            elif i == N-1:\n",
    "                 Y[j,i] = (1/4) * (Y_prev[j+1,i] + Y_prev[j-1,i]+ Y_prev[j,N-1] +Y_prev[j,i-1] -4 * Y_prev[j,i]) \n",
    "            else:\n",
    "                 Y[j,i] = (1/4) * (Y_prev[j+1,i] + Y_prev[j-1,i]+ Y_prev[j,i+1] +Y_prev[j,i-1] -4 * Y_prev[j,i])\n",
    "    return(Y)  \n",
    "\n",
    "# we still need to implement the stopping condition"
   ]
  },
  {
   "cell_type": "markdown",
   "metadata": {},
   "source": [
    "1.5 The Gauss_Seidel teration"
   ]
  },
  {
   "cell_type": "code",
   "execution_count": 7,
   "metadata": {},
   "outputs": [],
   "source": [
    "def update_GS(Y):\n",
    "    for j in range(1, len(Y)-1):\n",
    "        for i in range(len(Y)):\n",
    "            if i == 0:\n",
    "                 Y[j,i] = (1/4) * (Y[j+1,i] + Y[j-1,i]+ Y[j,i+1] +Y[j,-1] -4 * Y[j,i]) \n",
    "            elif i == N-1:\n",
    "                 Y[j,i] = (1/4) * (Y[j+1,i] + Y[j-1,i]+ Y[j,N-1] +Y[j,i-1] -4 * Y[j,i]) \n",
    "            else:\n",
    "                 Y[j,i] = (1/4) * (Y[j+1,i] + Y[j-1,i]+ Y[j,i+1] +Y[j,i-1] -4 * Y[j,i])\n",
    "    return(Y)  "
   ]
  },
  {
   "cell_type": "markdown",
   "metadata": {},
   "source": [
    "1.6 Successice Over Relaxation"
   ]
  },
  {
   "cell_type": "code",
   "execution_count": null,
   "metadata": {},
   "outputs": [],
   "source": [
    "def update_SOR(Y, w):\n",
    "    for j in range(1, len(Y)-1):\n",
    "        for i in range(len(Y)):\n",
    "            if i == 0:\n",
    "                 Y[j,i] = (1-w)*Y[j,i] +  (w/4) * (Y[j+1,i] + Y[j-1,i]+ Y[j,i+1] +Y[j,-1] -4 * Y[j,i]) \n",
    "            elif i == N-1:\n",
    "                 Y[j,i] = (1-w)*Y[j,i] +  (w/4) * (Y[j+1,i] + Y[j-1,i]+ Y[j,N-1] +Y[j,i-1] -4 * Y[j,i]) \n",
    "            else:\n",
    "                 Y[j,i] = (1-w)*Y[j,i] +  (w/4) * (Y[j+1,i] + Y[j-1,i]+ Y[j,i+1] +Y[j,i-1] -4 * Y[j,i])\n",
    "    return(Y)  \n",
    "\n",
    "w = 1.8\n"
   ]
  }
 ],
 "metadata": {
  "kernelspec": {
   "display_name": "Python 3",
   "language": "python",
   "name": "python3"
  },
  "language_info": {
   "codemirror_mode": {
    "name": "ipython",
    "version": 3
   },
   "file_extension": ".py",
   "mimetype": "text/x-python",
   "name": "python",
   "nbconvert_exporter": "python",
   "pygments_lexer": "ipython3",
   "version": "3.7.4"
  }
 },
 "nbformat": 4,
 "nbformat_minor": 4
}
