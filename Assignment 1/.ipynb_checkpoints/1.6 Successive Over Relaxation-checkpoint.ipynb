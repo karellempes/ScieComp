{
 "cells": [
  {
   "cell_type": "code",
   "execution_count": 2,
   "metadata": {},
   "outputs": [],
   "source": [
    "import math\n",
    "import numpy as np \n",
    "import matplotlib.pyplot as plt "
   ]
  },
  {
   "cell_type": "code",
   "execution_count": 3,
   "metadata": {},
   "outputs": [],
   "source": [
    "N = 50\n",
    "D = 1\n",
    "dx = 1/N\n",
    "w = 1.8\n",
    "e = 10**(-5)"
   ]
  },
  {
   "cell_type": "code",
   "execution_count": 4,
   "metadata": {},
   "outputs": [],
   "source": [
    "def init(N):\n",
    "    grid = np.zeros((N,N))\n",
    "    grid[0] = np.ones(N)\n",
    "    return grid"
   ]
  },
  {
   "cell_type": "code",
   "execution_count": 5,
   "metadata": {},
   "outputs": [],
   "source": [
    "def analytic(Y, t, t_max, D):\n",
    "    t = t * dt\n",
    "    c = 0\n",
    "    for i in range(t_max):\n",
    "        Z_neg = (1 - Y + 2*i) / (2* np.sqrt(D*t))\n",
    "        Z_pos = (1 + Y + 2*i) / (2* np.sqrt(D*t))\n",
    "        c = c + math.erfc(Z_neg) - math.erfc(Z_pos)\n",
    "    return c"
   ]
  },
  {
   "cell_type": "markdown",
   "metadata": {},
   "source": [
    "1.4 Jacobi iteration"
   ]
  },
  {
   "cell_type": "code",
   "execution_count": 25,
   "metadata": {},
   "outputs": [],
   "source": [
    "def update_J(Y):\n",
    "    Y_prev = np.copy(Y)\n",
    "    for j in range(1, len(Y)-1):\n",
    "        for i in range(len(Y)):\n",
    "            if i == 0:\n",
    "                 Y[j,i] = (1/4) * (Y_prev[j+1,i] + Y_prev[j-1,i]+ Y_prev[j,i+1] +Y_prev[j,-1]) \n",
    "            elif i == N-1:\n",
    "                 Y[j,i] = (1/4) * (Y_prev[j+1,i] + Y_prev[j-1,i]+ Y_prev[j,0] +Y_prev[j,i-1]) \n",
    "            else:\n",
    "                 Y[j,i] = (1/4) * (Y_prev[j+1,i] + Y_prev[j-1,i]+ Y_prev[j,i+1] +Y_prev[j,i-1])\n",
    "    return(Y)  \n",
    "\n",
    "# we still need to implement the stopping condition"
   ]
  },
  {
   "cell_type": "markdown",
   "metadata": {},
   "source": [
    "1.5 The Gauss_Seidel iteration"
   ]
  },
  {
   "cell_type": "code",
   "execution_count": 14,
   "metadata": {},
   "outputs": [],
   "source": [
    "def update_GS(Y):\n",
    "    for j in range(1, len(Y)-1):\n",
    "        for i in range(len(Y)):\n",
    "            if i == 0:\n",
    "                 Y[j,i] = (1/4) * (Y[j+1,i] + Y[j-1,i]+ Y[j,i+1] +Y[j,-1]) \n",
    "            elif i == N-1:\n",
    "                 Y[j,i] = (1/4) * (Y[j+1,i] + Y[j-1,i]+ Y[j,0] +Y[j,i-1]) \n",
    "            else:\n",
    "                 Y[j,i] = (1/4) * (Y[j+1,i] + Y[j-1,i]+ Y[j,i+1] +Y[j,i-1])\n",
    "    return(Y)  "
   ]
  },
  {
   "cell_type": "markdown",
   "metadata": {},
   "source": [
    "1.6 Successice Over Relaxation"
   ]
  },
  {
   "cell_type": "code",
   "execution_count": 15,
   "metadata": {},
   "outputs": [],
   "source": [
    "def update_SOR(Y, w):\n",
    "    for j in range(1, len(Y)-1):\n",
    "        for i in range(len(Y)):\n",
    "            if i == 0:\n",
    "                 Y[j,i] = (1-w)*Y[j,i] +  (w/4) * (Y[j+1,i] + Y[j-1,i]+ Y[j,i+1] +Y[j,-1]) \n",
    "            elif i == N-1:\n",
    "                 Y[j,i] = (1-w)*Y[j,i] +  (w/4) * (Y[j+1,i] + Y[j-1,i]+ Y[j,0] +Y[j,i-1]) \n",
    "            else:\n",
    "                 Y[j,i] = (1-w)*Y[j,i] +  (w/4) * (Y[j+1,i] + Y[j-1,i]+ Y[j,i+1] +Y[j,i-1])\n",
    "    return(Y)  \n",
    "\n",
    "\n"
   ]
  },
  {
   "cell_type": "code",
   "execution_count": 19,
   "metadata": {},
   "outputs": [
    {
     "name": "stdout",
     "output_type": "stream",
     "text": [
      "3\n"
     ]
    }
   ],
   "source": [
    "a = np.array([1, 2, 3, 3,3, 3, 3, 3])\n",
    "print(np.amax(a))"
   ]
  },
  {
   "cell_type": "code",
   "execution_count": 27,
   "metadata": {},
   "outputs": [],
   "source": [
    "def iterative(model_type, e, w):\n",
    "    Y = init(N)\n",
    "    k = 1\n",
    "    if model_type == 0:      # Jacobian iteration\n",
    "        Y_prev = np.copy(Y)\n",
    "        Y = update_J(Y)\n",
    "        diff = np.abs(Y - Y_prev)\n",
    "        diff_val = (np.amax(diff))\n",
    "        while(diff_val > e):\n",
    "            k = k+1\n",
    "            Y_prev = np.copy(Y)\n",
    "            Y = update_J(Y)\n",
    "            diff = np.abs(Y - Y_prev)\n",
    "            diff_val = (np.amax(diff))\n",
    "    if model_type == 1:       # Gauss_Seidel iteration\n",
    "        Y_prev = np.copy(Y)\n",
    "        Y = update_GS(Y)\n",
    "        diff = np.abs(Y - Y_prev)\n",
    "        diff_val = (np.amax(diff))\n",
    "        while(diff_val > e):\n",
    "            k = k+1\n",
    "            Y_prev = np.copy(Y)\n",
    "            Y = update_GS(Y)\n",
    "            diff = np.abs(Y - Y_prev)\n",
    "            diff_val = (np.amax(diff))\n",
    "    if model_type == 2:      # Successice Over Relaxation iteration\n",
    "        Y_prev = np.copy(Y)\n",
    "        Y = update_SOR(Y, w)\n",
    "        diff = np.abs(Y - Y_prev)\n",
    "        diff_val = (np.amax(diff))\n",
    "        while(diff_val > e):\n",
    "            k = k+1\n",
    "            Y_prev = np.copy(Y)\n",
    "            Y = update_SOR(Y, w)\n",
    "            diff = np.abs(Y - Y_prev)\n",
    "            diff_val = (np.amax(diff))\n",
    "    return(Y, k)"
   ]
  },
  {
   "cell_type": "code",
   "execution_count": 28,
   "metadata": {},
   "outputs": [
    {
     "name": "stdout",
     "output_type": "stream",
     "text": [
      "Complete\n"
     ]
    }
   ],
   "source": [
    "grid_0, total_iterations_0 = iterative(0, e, w)\n",
    "print(\"Complete\")"
   ]
  },
  {
   "cell_type": "code",
   "execution_count": null,
   "metadata": {},
   "outputs": [],
   "source": [
    "grid_1, total_iterations_1 = iterative(1, e, w)\n",
    "print(\"Complete\")"
   ]
  },
  {
   "cell_type": "code",
   "execution_count": null,
   "metadata": {},
   "outputs": [],
   "source": [
    "grid_2, total_iterations_2 = iterative(2, e, w)\n",
    "print(\"Complete\")"
   ]
  },
  {
   "cell_type": "code",
   "execution_count": 10,
   "metadata": {},
   "outputs": [
    {
     "name": "stdout",
     "output_type": "stream",
     "text": [
      "4068 423440 504\n"
     ]
    }
   ],
   "source": [
    "print(total_iterations_0, total_iterations_1, total_iterations_2)"
   ]
  },
  {
   "cell_type": "code",
   "execution_count": 29,
   "metadata": {
    "scrolled": true
   },
   "outputs": [
    {
     "name": "stdout",
     "output_type": "stream",
     "text": [
      "4068\n"
     ]
    },
    {
     "data": {
      "image/png": "[encoded data removed]",
      "text/plain": [
       "<Figure size 432x288 with 1 Axes>"
      ]
     },
     "metadata": {
      "needs_background": "light"
     },
     "output_type": "display_data"
    },
    {
     "name": "stdout",
     "output_type": "stream",
     "text": [
      "[[1.         1.         1.         ... 1.         1.         1.        ]\n",
      " [0.97896881 0.97896881 0.97896881 ... 0.97896881 0.97896881 0.97896881]\n",
      " [0.95794017 0.95794017 0.95794017 ... 0.95794017 0.95794017 0.95794017]\n",
      " ...\n",
      " [0.03957284 0.03957284 0.03957284 ... 0.03957284 0.03957284 0.03957284]\n",
      " [0.01978514 0.01978514 0.01978514 ... 0.01978514 0.01978514 0.01978514]\n",
      " [0.         0.         0.         ... 0.         0.         0.        ]]\n"
     ]
    }
   ],
   "source": [
    "print(total_iterations_0)\n",
    "plt.imshow(grid_0)\n",
    "plt.show()"
   ]
  },
  {
   "cell_type": "code",
   "execution_count": null,
   "metadata": {},
   "outputs": [],
   "source": [
    "for w in np.arange(1.7,2,0.01):\n",
    "    w = round(w,2)\n",
    "    grid, k = iterative(2, e, w)\n",
    "    plt.plot(grid[:,0], Y_axes, label = \"w ={}\".format(w))\n",
    "plt.legend()\n",
    "plt.show()"
   ]
  },
  {
   "cell_type": "code",
   "execution_count": null,
   "metadata": {},
   "outputs": [],
   "source": [
    "def SOR_objects(Y, w):\n",
    "    Y_prev = np.copy(Y)\n",
    "    Y = update_SOR(Y, w, True)\n",
    "    diff = np.abs(Y - Y_prev)\n",
    "    diff_val = (np.amax(diff))\n",
    "    while(diff_val > e):\n",
    "        Y_prev = np.copy(Y)\n",
    "        Y = update_SOR(Y, w, True)\n",
    "        diff = np.abs(Y - Y_prev)\n",
    "        diff_val = (np.amax(diff))\n",
    "    return(Y)"
   ]
  },
  {
   "cell_type": "code",
   "execution_count": null,
   "metadata": {},
   "outputs": [],
   "source": [
    "Y = init(N)\n",
    "grid_obj = SOR_objects(Y,w)\n",
    "print(grid_obj)\n",
    "plt.plot(grid_obj)\n",
    "plt.show()"
   ]
  }
 ],
 "metadata": {
  "kernelspec": {
   "display_name": "Python 3",
   "language": "python",
   "name": "python3"
  },
  "language_info": {
   "codemirror_mode": {
    "name": "ipython",
    "version": 3
   },
   "file_extension": ".py",
   "mimetype": "text/x-python",
   "name": "python",
   "nbconvert_exporter": "python",
   "pygments_lexer": "ipython3",
   "version": "3.8.5"
  }
 },
 "nbformat": 4,
 "nbformat_minor": 4
}
