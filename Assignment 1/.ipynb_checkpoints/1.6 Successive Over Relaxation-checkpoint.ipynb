{
 "cells": [
  {
   "cell_type": "code",
   "execution_count": 31,
   "metadata": {},
   "outputs": [],
   "source": [
    "import math\n",
    "import numpy as np \n",
    "import matplotlib.pyplot as plt "
   ]
  },
  {
   "cell_type": "code",
   "execution_count": 32,
   "metadata": {},
   "outputs": [],
   "source": [
    "N = 50\n",
    "D = 1\n",
    "dx = 1/N\n",
    "w = 1.8\n",
    "e = 10**(-5)"
   ]
  },
  {
   "cell_type": "code",
   "execution_count": 33,
   "metadata": {},
   "outputs": [],
   "source": [
    "def init(N):\n",
    "    grid = np.zeros((N,N))\n",
    "    grid[0] = np.ones(N)\n",
    "    return grid"
   ]
  },
  {
   "cell_type": "code",
   "execution_count": 49,
   "metadata": {},
   "outputs": [],
   "source": [
    "def analytic(Y, t, t_max, D):\n",
    "    c = 0\n",
    "    for i in range(t_max):\n",
    "        Z_neg = (1 - Y + 2*i) / (2* np.sqrt(D*t))\n",
    "        Z_pos = (1 + Y + 2*i) / (2* np.sqrt(D*t))\n",
    "        c = c + math.erfc(Z_neg) - math.erfc(Z_pos)\n",
    "    return c"
   ]
  },
  {
   "cell_type": "markdown",
   "metadata": {},
   "source": [
    "1.4 Jacobi iteration"
   ]
  },
  {
   "cell_type": "code",
   "execution_count": 35,
   "metadata": {},
   "outputs": [],
   "source": [
    "def update_J(Y):\n",
    "    Y_prev = np.copy(Y)\n",
    "    for j in range(1, len(Y)-1):\n",
    "        for i in range(len(Y)):\n",
    "            if i == 0:\n",
    "                 Y[j,i] = (1/4) * (Y_prev[j+1,i] + Y_prev[j-1,i]+ Y_prev[j,i+1] +Y_prev[j,-1]) \n",
    "            elif i == N-1:\n",
    "                 Y[j,i] = (1/4) * (Y_prev[j+1,i] + Y_prev[j-1,i]+ Y_prev[j,0] +Y_prev[j,i-1]) \n",
    "            else:\n",
    "                 Y[j,i] = (1/4) * (Y_prev[j+1,i] + Y_prev[j-1,i]+ Y_prev[j,i+1] +Y_prev[j,i-1])\n",
    "    return(Y)  "
   ]
  },
  {
   "cell_type": "markdown",
   "metadata": {},
   "source": [
    "1.5 The Gauss_Seidel iteration"
   ]
  },
  {
   "cell_type": "code",
   "execution_count": 36,
   "metadata": {},
   "outputs": [],
   "source": [
    "def update_GS(Y):\n",
    "    for j in range(1, len(Y)-1):\n",
    "        for i in range(len(Y)):\n",
    "            if i == 0:\n",
    "                 Y[j,i] =  (1/4) * (Y[j+1,i] + Y[j-1,i] + Y[j,i+1] + Y[j,-1]) \n",
    "            elif i == N-1:\n",
    "                 Y[j,i] =  (1/4) * (Y[j+1,i] + Y[j-1,i] + Y[j,0] + Y[j,i-1]) \n",
    "            else:\n",
    "                 Y[j,i] =  (1/4) * (Y[j+1,i] + Y[j-1,i] + Y[j,i+1] + Y[j,i-1])\n",
    "    return(Y)  "
   ]
  },
  {
   "cell_type": "markdown",
   "metadata": {},
   "source": [
    "1.6 Successice Over Relaxation"
   ]
  },
  {
   "cell_type": "code",
   "execution_count": 77,
   "metadata": {},
   "outputs": [],
   "source": [
    "def update_SOR(Y, w, N = 50, objects = []):\n",
    "    for j in range(1, len(Y)-1):\n",
    "        for i in range(len(Y)):\n",
    "            if i == 0:\n",
    "                 Y[j,i] = (1-w)*Y[j,i] + (w/4) * (Y[j+1,i] + Y[j-1,i] + Y[j,i+1] + Y[j,-1]) \n",
    "            elif i == N-1:\n",
    "                 Y[j,i] = (1-w)*Y[j,i] + (w/4) * (Y[j+1,i] + Y[j-1,i] + Y[j,0] + Y[j,i-1]) \n",
    "            else:\n",
    "                 Y[j,i] = (1-w)*Y[j,i] + (w/4) * (Y[j+1,i] + Y[j-1,i] + Y[j,i+1] + Y[j,i-1])\n",
    "        if len(objects) > 0:\n",
    "            Y[objects[0,0]:objects[0,1], objects[1,0]:objects[1,1]] = 0\n",
    "            if len(objects) == 4:\n",
    "                Y[objects[2,0]:objects[2,1], objects[3,0]:objects[3,1]] = 0    \n",
    "    return(Y)  "
   ]
  },
  {
   "cell_type": "code",
   "execution_count": 79,
   "metadata": {},
   "outputs": [],
   "source": [
    "def iterative(model_type, e, w, N=50):\n",
    "    Y = init(N)\n",
    "    delta = []\n",
    "    print(np.shape(Y))\n",
    "    k = 1\n",
    "    if model_type == 0:      # Jacobian iteration\n",
    "        Y_prev = np.copy(Y)\n",
    "        Y = update_J(Y)\n",
    "        diff = np.abs(Y - Y_prev)\n",
    "        diff_val = np.amax(diff)\n",
    "        delta.append(diff_val)\n",
    "        while(diff_val > e):\n",
    "            k = k+1\n",
    "            Y_prev = np.copy(Y)\n",
    "            Y = update_J(Y)\n",
    "            diff = np.abs(Y - Y_prev)\n",
    "            diff_val = np.amax(diff)\n",
    "            delta.append(diff_val)\n",
    "    if model_type == 1:       # Gauss_Seidel iteration\n",
    "        Y_prev = np.copy(Y)\n",
    "        Y = update_GS(Y)\n",
    "        diff = np.abs(Y - Y_prev)\n",
    "        diff_val = np.amax(diff)\n",
    "        delta.append(diff_val)\n",
    "        while(diff_val > e):\n",
    "            k = k+1\n",
    "            Y_prev = np.copy(Y)\n",
    "            Y = update_GS(Y)\n",
    "            diff = np.abs(Y - Y_prev)\n",
    "            diff_val = np.amax(diff)\n",
    "            delta.append(diff_val)\n",
    "    if model_type == 2:      # Successice Over Relaxation iteration\n",
    "        Y_prev = np.copy(Y)\n",
    "        print(N)\n",
    "        Y = update_SOR(Y, w, N)\n",
    "        diff = np.abs(Y - Y_prev)\n",
    "        diff_val = (np.amax(diff))\n",
    "        delta.append(diff_val)\n",
    "        while(diff_val > e):\n",
    "            k = k+1\n",
    "            Y_prev = np.copy(Y)\n",
    "            Y = update_SOR(Y, w, N)\n",
    "            diff = np.abs(Y - Y_prev)\n",
    "            diff_val = (np.amax(diff))\n",
    "            delta.append(diff_val)\n",
    "    return(Y, k, delta)"
   ]
  },
  {
   "cell_type": "code",
   "execution_count": null,
   "metadata": {},
   "outputs": [],
   "source": [
    "grid_0, total_iterations_0, delta_0 = iterative(0, e, w)\n",
    "grid_1, total_iterations_1, delta_1 = iterative(1, e, w)\n",
    "grid_2, total_iterations_2, delta_2 = iterative(2, e, w)"
   ]
  },
  {
   "cell_type": "code",
   "execution_count": 106,
   "metadata": {},
   "outputs": [
    {
     "name": "stdout",
     "output_type": "stream",
     "text": [
      "Jacobian iteration till convergence:  4068\n"
     ]
    },
    {
     "data": {
      "image/png": "[encoded data removed]",
      "text/plain": [
       "<Figure size 432x288 with 1 Axes>"
      ]
     },
     "metadata": {
      "needs_background": "light"
     },
     "output_type": "display_data"
    },
    {
     "data": {
      "image/png": "[encoded data removed]",
      "text/plain": [
       "<Figure size 432x288 with 1 Axes>"
      ]
     },
     "metadata": {
      "needs_background": "light"
     },
     "output_type": "display_data"
    },
    {
     "name": "stdout",
     "output_type": "stream",
     "text": [
      "Gaus-Seidel iteration till convergence:  2361\n"
     ]
    },
    {
     "data": {
      "image/png": "[encoded data removed]",
      "text/plain": [
       "<Figure size 432x288 with 1 Axes>"
      ]
     },
     "metadata": {
      "needs_background": "light"
     },
     "output_type": "display_data"
    },
    {
     "data": {
      "image/png": "[encoded data removed]",
      "text/plain": [
       "<Figure size 432x288 with 1 Axes>"
      ]
     },
     "metadata": {
      "needs_background": "light"
     },
     "output_type": "display_data"
    },
    {
     "name": "stdout",
     "output_type": "stream",
     "text": [
      "SOR iteration till convergence:  366\n"
     ]
    },
    {
     "data": {
      "image/png": "[encoded data removed]",
      "text/plain": [
       "<Figure size 432x288 with 1 Axes>"
      ]
     },
     "metadata": {
      "needs_background": "light"
     },
     "output_type": "display_data"
    },
    {
     "data": {
      "image/png": "[encoded data removed]",
      "text/plain": [
       "<Figure size 432x288 with 1 Axes>"
      ]
     },
     "metadata": {
      "needs_background": "light"
     },
     "output_type": "display_data"
    }
   ],
   "source": [
    "print(\"Jacobian iteration till convergence: \" , total_iterations_0)\n",
    "plt.plot(delta_0)\n",
    "plt.xlabel(\"Iteration\")\n",
    "plt.ylabel(\"delta\")\n",
    "plt.yscale(\"log\")\n",
    "plt.show()\n",
    "plt.imshow(grid_0)\n",
    "plt.show()\n",
    "print(\"Gaus-Seidel iteration till convergence: \" , total_iterations_1)\n",
    "plt.plot(delta_1)\n",
    "plt.xlabel(\"Iteration\")\n",
    "plt.ylabel(\"delta\")\n",
    "plt.yscale(\"log\")\n",
    "plt.show()\n",
    "plt.imshow(grid_1)\n",
    "plt.show()\n",
    "print(\"SOR iteration till convergence: \" , total_iterations_2)\n",
    "plt.plot(delta_2)\n",
    "plt.xlabel(\"Iteration\")\n",
    "plt.ylabel(\"delta\")\n",
    "plt.yscale(\"log\")\n",
    "plt.show()\n",
    "plt.imshow(grid_2)\n",
    "plt.show()"
   ]
  },
  {
   "cell_type": "code",
   "execution_count": 55,
   "metadata": {},
   "outputs": [],
   "source": [
    "C_list = []\n",
    "for y in np.arange(0, 1, 0.01):\n",
    "    C = analytic(y, 1, 50, D)\n",
    "    C_list.append(C)\n",
    "C_list.reverse() # "
   ]
  },
  {
   "cell_type": "code",
   "execution_count": 58,
   "metadata": {},
   "outputs": [
    {
     "data": {
      "image/png": "[encoded data removed]",
      "text/plain": [
       "<Figure size 432x288 with 1 Axes>"
      ]
     },
     "metadata": {
      "needs_background": "light"
     },
     "output_type": "display_data"
    },
    {
     "data": {
      "image/png": "[encoded data removed]",
      "text/plain": [
       "<Figure size 432x288 with 1 Axes>"
      ]
     },
     "metadata": {
      "needs_background": "light"
     },
     "output_type": "display_data"
    }
   ],
   "source": [
    "plt.plot(C_list, np.linspace(1, 0, 100), label = \"Analytic\")\n",
    "plt.plot(grid_0[:,0], np.linspace(1,0,N), label = \"Jacobian iteration\")\n",
    "plt.plot(grid_1[:,0], np.linspace(1,0,N), label = \"GS iteration\")\n",
    "plt.plot(grid_2[:,0], np.linspace(1,0,N), label = \"SOR iteration\")\n",
    "plt.legend()\n",
    "plt.show()\n",
    "\n",
    "plt.plot(C_list, np.linspace(1, 0, 100), label = \"Analytic\")\n",
    "plt.plot(grid_0[:,0], np.linspace(1,0,N), label = \"Jacobian iteration\")\n",
    "plt.plot(grid_1[:,0], np.linspace(1,0,N), label = \"GS iteration\")\n",
    "plt.plot(grid_2[:,0], np.linspace(1,0,N), label = \"SOR iteration\")\n",
    "plt.ylim(0.45, 0.55)\n",
    "plt.xlim(0.45, 0.55)\n",
    "plt.legend()\n",
    "plt.show()"
   ]
  },
  {
   "cell_type": "code",
   "execution_count": 89,
   "metadata": {},
   "outputs": [
    {
     "name": "stdout",
     "output_type": "stream",
     "text": [
      "(50, 50)\n",
      "50\n",
      "(55, 55)\n",
      "55\n",
      "(60, 60)\n",
      "60\n",
      "(65, 65)\n",
      "65\n",
      "(70, 70)\n",
      "70\n",
      "(75, 75)\n",
      "75\n",
      "(80, 80)\n",
      "80\n",
      "(85, 85)\n",
      "85\n",
      "(90, 90)\n",
      "90\n",
      "(95, 95)\n",
      "95\n",
      "(100, 100)\n",
      "100\n",
      "(105, 105)\n",
      "105\n",
      "(110, 110)\n",
      "110\n",
      "(115, 115)\n",
      "115\n",
      "(120, 120)\n",
      "120\n",
      "(125, 125)\n",
      "125\n",
      "(130, 130)\n",
      "130\n",
      "(135, 135)\n",
      "135\n",
      "(140, 140)\n",
      "140\n",
      "(145, 145)\n",
      "145\n",
      "(50, 50)\n",
      "50\n",
      "(55, 55)\n",
      "55\n",
      "(60, 60)\n",
      "60\n",
      "(65, 65)\n",
      "65\n",
      "(70, 70)\n",
      "70\n",
      "(75, 75)\n",
      "75\n",
      "(80, 80)\n",
      "80\n",
      "(85, 85)\n",
      "85\n",
      "(90, 90)\n",
      "90\n",
      "(95, 95)\n",
      "95\n",
      "(100, 100)\n",
      "100\n",
      "(105, 105)\n",
      "105\n",
      "(110, 110)\n",
      "110\n",
      "(115, 115)\n",
      "115\n",
      "(120, 120)\n",
      "120\n",
      "(125, 125)\n",
      "125\n",
      "(130, 130)\n",
      "130\n",
      "(135, 135)\n",
      "135\n",
      "(140, 140)\n",
      "140\n",
      "(145, 145)\n",
      "145\n",
      "(50, 50)\n",
      "50\n",
      "(55, 55)\n",
      "55\n",
      "(60, 60)\n",
      "60\n",
      "(65, 65)\n",
      "65\n",
      "(70, 70)\n",
      "70\n",
      "(75, 75)\n",
      "75\n",
      "(80, 80)\n",
      "80\n",
      "(85, 85)\n",
      "85\n",
      "(90, 90)\n",
      "90\n",
      "(95, 95)\n",
      "95\n",
      "(100, 100)\n",
      "100\n",
      "(105, 105)\n",
      "105\n",
      "(110, 110)\n",
      "110\n",
      "(115, 115)\n",
      "115\n",
      "(120, 120)\n",
      "120\n",
      "(125, 125)\n",
      "125\n",
      "(130, 130)\n",
      "130\n",
      "(135, 135)\n",
      "135\n",
      "(140, 140)\n",
      "140\n",
      "(145, 145)\n",
      "145\n",
      "(50, 50)\n",
      "50\n",
      "(55, 55)\n",
      "55\n",
      "(60, 60)\n",
      "60\n",
      "(65, 65)\n",
      "65\n",
      "(70, 70)\n",
      "70\n",
      "(75, 75)\n",
      "75\n",
      "(80, 80)\n",
      "80\n",
      "(85, 85)\n",
      "85\n",
      "(90, 90)\n",
      "90\n",
      "(95, 95)\n",
      "95\n",
      "(100, 100)\n",
      "100\n",
      "(105, 105)\n",
      "105\n",
      "(110, 110)\n",
      "110\n",
      "(115, 115)\n",
      "115\n",
      "(120, 120)\n",
      "120\n",
      "(125, 125)\n",
      "125\n",
      "(130, 130)\n",
      "130\n",
      "(135, 135)\n",
      "135\n",
      "(140, 140)\n",
      "140\n",
      "(145, 145)\n",
      "145\n",
      "(50, 50)\n",
      "50\n",
      "(55, 55)\n",
      "55\n",
      "(60, 60)\n",
      "60\n",
      "(65, 65)\n",
      "65\n",
      "(70, 70)\n",
      "70\n",
      "(75, 75)\n",
      "75\n",
      "(80, 80)\n",
      "80\n",
      "(85, 85)\n",
      "85\n",
      "(90, 90)\n",
      "90\n",
      "(95, 95)\n",
      "95\n",
      "(100, 100)\n",
      "100\n",
      "(105, 105)\n",
      "105\n",
      "(110, 110)\n",
      "110\n",
      "(115, 115)\n",
      "115\n",
      "(120, 120)\n",
      "120\n",
      "(125, 125)\n",
      "125\n",
      "(130, 130)\n",
      "130\n",
      "(135, 135)\n",
      "135\n",
      "(140, 140)\n",
      "140\n",
      "(145, 145)\n",
      "145\n",
      "(50, 50)\n",
      "50\n",
      "(55, 55)\n",
      "55\n",
      "(60, 60)\n",
      "60\n",
      "(65, 65)\n",
      "65\n",
      "(70, 70)\n",
      "70\n",
      "(75, 75)\n",
      "75\n",
      "(80, 80)\n",
      "80\n",
      "(85, 85)\n",
      "85\n",
      "(90, 90)\n",
      "90\n",
      "(95, 95)\n",
      "95\n",
      "(100, 100)\n",
      "100\n",
      "(105, 105)\n",
      "105\n",
      "(110, 110)\n",
      "110\n",
      "(115, 115)\n",
      "115\n",
      "(120, 120)\n",
      "120\n",
      "(125, 125)\n",
      "125\n",
      "(130, 130)\n",
      "130\n",
      "(135, 135)\n",
      "135\n",
      "(140, 140)\n",
      "140\n",
      "(145, 145)\n",
      "145\n",
      "(50, 50)\n",
      "50\n"
     ]
    },
    {
     "ename": "KeyboardInterrupt",
     "evalue": "",
     "output_type": "error",
     "traceback": [
      "\u001b[1;31m---------------------------------------------------------------------------\u001b[0m",
      "\u001b[1;31mKeyboardInterrupt\u001b[0m                         Traceback (most recent call last)",
      "\u001b[1;32m<ipython-input-89-7a7eb9477108>\u001b[0m in \u001b[0;36m<module>\u001b[1;34m\u001b[0m\n\u001b[0;32m      5\u001b[0m \u001b[1;32mfor\u001b[0m \u001b[0mi\u001b[0m \u001b[1;32min\u001b[0m \u001b[0mrange\u001b[0m\u001b[1;33m(\u001b[0m\u001b[0mlen\u001b[0m\u001b[1;33m(\u001b[0m\u001b[0mw_list\u001b[0m\u001b[1;33m)\u001b[0m\u001b[1;33m)\u001b[0m\u001b[1;33m:\u001b[0m\u001b[1;33m\u001b[0m\u001b[1;33m\u001b[0m\u001b[0m\n\u001b[0;32m      6\u001b[0m     \u001b[1;32mfor\u001b[0m \u001b[0mj\u001b[0m \u001b[1;32min\u001b[0m \u001b[0mrange\u001b[0m\u001b[1;33m(\u001b[0m\u001b[0mlen\u001b[0m\u001b[1;33m(\u001b[0m\u001b[0mN_list\u001b[0m\u001b[1;33m)\u001b[0m\u001b[1;33m)\u001b[0m\u001b[1;33m:\u001b[0m\u001b[1;33m\u001b[0m\u001b[1;33m\u001b[0m\u001b[0m\n\u001b[1;32m----> 7\u001b[1;33m         \u001b[0mgrid\u001b[0m\u001b[1;33m,\u001b[0m \u001b[0mk\u001b[0m\u001b[1;33m,\u001b[0m \u001b[0mdelta\u001b[0m \u001b[1;33m=\u001b[0m \u001b[0miterative\u001b[0m\u001b[1;33m(\u001b[0m\u001b[1;36m2\u001b[0m\u001b[1;33m,\u001b[0m \u001b[0me\u001b[0m\u001b[1;33m,\u001b[0m \u001b[0mw_list\u001b[0m\u001b[1;33m[\u001b[0m\u001b[0mi\u001b[0m\u001b[1;33m]\u001b[0m\u001b[1;33m,\u001b[0m \u001b[0mN_list\u001b[0m\u001b[1;33m[\u001b[0m\u001b[0mj\u001b[0m\u001b[1;33m]\u001b[0m\u001b[1;33m)\u001b[0m\u001b[1;33m\u001b[0m\u001b[1;33m\u001b[0m\u001b[0m\n\u001b[0m\u001b[0;32m      8\u001b[0m         \u001b[0miter_list\u001b[0m\u001b[1;33m[\u001b[0m\u001b[0mi\u001b[0m\u001b[1;33m,\u001b[0m \u001b[0mj\u001b[0m\u001b[1;33m]\u001b[0m \u001b[1;33m=\u001b[0m \u001b[0mk\u001b[0m\u001b[1;33m\u001b[0m\u001b[1;33m\u001b[0m\u001b[0m\n\u001b[0;32m      9\u001b[0m         \u001b[0mdelta_list\u001b[0m\u001b[1;33m.\u001b[0m\u001b[0mappend\u001b[0m\u001b[1;33m(\u001b[0m\u001b[0mdelta\u001b[0m\u001b[1;33m)\u001b[0m\u001b[1;33m\u001b[0m\u001b[1;33m\u001b[0m\u001b[0m\n",
      "\u001b[1;32m<ipython-input-79-4d45f76e21e6>\u001b[0m in \u001b[0;36miterative\u001b[1;34m(model_type, e, w, N)\u001b[0m\n\u001b[0;32m     41\u001b[0m             \u001b[0mY_prev\u001b[0m \u001b[1;33m=\u001b[0m \u001b[0mnp\u001b[0m\u001b[1;33m.\u001b[0m\u001b[0mcopy\u001b[0m\u001b[1;33m(\u001b[0m\u001b[0mY\u001b[0m\u001b[1;33m)\u001b[0m\u001b[1;33m\u001b[0m\u001b[1;33m\u001b[0m\u001b[0m\n\u001b[0;32m     42\u001b[0m             \u001b[0mY\u001b[0m \u001b[1;33m=\u001b[0m \u001b[0mupdate_SOR\u001b[0m\u001b[1;33m(\u001b[0m\u001b[0mY\u001b[0m\u001b[1;33m,\u001b[0m \u001b[0mw\u001b[0m\u001b[1;33m,\u001b[0m \u001b[0mN\u001b[0m\u001b[1;33m)\u001b[0m\u001b[1;33m\u001b[0m\u001b[1;33m\u001b[0m\u001b[0m\n\u001b[1;32m---> 43\u001b[1;33m             \u001b[0mdiff\u001b[0m \u001b[1;33m=\u001b[0m \u001b[0mnp\u001b[0m\u001b[1;33m.\u001b[0m\u001b[0mabs\u001b[0m\u001b[1;33m(\u001b[0m\u001b[0mY\u001b[0m \u001b[1;33m-\u001b[0m \u001b[0mY_prev\u001b[0m\u001b[1;33m)\u001b[0m\u001b[1;33m\u001b[0m\u001b[1;33m\u001b[0m\u001b[0m\n\u001b[0m\u001b[0;32m     44\u001b[0m             \u001b[0mdiff_val\u001b[0m \u001b[1;33m=\u001b[0m \u001b[1;33m(\u001b[0m\u001b[0mnp\u001b[0m\u001b[1;33m.\u001b[0m\u001b[0mamax\u001b[0m\u001b[1;33m(\u001b[0m\u001b[0mdiff\u001b[0m\u001b[1;33m)\u001b[0m\u001b[1;33m)\u001b[0m\u001b[1;33m\u001b[0m\u001b[1;33m\u001b[0m\u001b[0m\n\u001b[0;32m     45\u001b[0m             \u001b[0mdelta\u001b[0m\u001b[1;33m.\u001b[0m\u001b[0mappend\u001b[0m\u001b[1;33m(\u001b[0m\u001b[0mdiff_val\u001b[0m\u001b[1;33m)\u001b[0m\u001b[1;33m\u001b[0m\u001b[1;33m\u001b[0m\u001b[0m\n",
      "\u001b[1;31mKeyboardInterrupt\u001b[0m: "
     ]
    }
   ],
   "source": [
    "w_list = np.arange(1.7,2,0.05)\n",
    "N_list = np.arange(50, 150, 5)\n",
    "iter_list = np.zeros((len(w_list), len(N_list)))\n",
    "delta_list = []\n",
    "for i in range(len(w_list)):\n",
    "    for j in range(len(N_list)):\n",
    "        grid, k, delta = iterative(2, e, w_list[i], N_list[j])\n",
    "        iter_list[i, j] = k\n",
    "        delta_list.append(delta)\n",
    "        \n",
    "print(iter_list)\n",
    "print(delta)"
   ]
  },
  {
   "cell_type": "code",
   "execution_count": 93,
   "metadata": {},
   "outputs": [
    {
     "name": "stdout",
     "output_type": "stream",
     "text": [
      "[[ 554.  654.  761.  873.  991. 1114. 1242. 1374. 1512. 1653. 1799. 1948.\n",
      "  2101. 2258. 2419. 2582. 2749. 2919. 3091. 3266.]\n",
      " [ 460.  544.  633.  728.  827.  931. 1039. 1151. 1267. 1387. 1511. 1638.\n",
      "  1768. 1902. 2038. 2178. 2320. 2466. 2613. 2764.]\n",
      " [ 366.  435.  507.  584.  665.  749.  837.  929. 1024. 1122. 1224. 1328.\n",
      "  1435. 1545. 1658. 1773. 1891. 2011. 2133. 2258.]\n",
      " [ 273.  325.  381.  440.  502.  567.  635.  706.  780.  856.  935. 1016.\n",
      "  1099. 1185. 1273. 1363. 1455. 1549. 1646. 1744.]\n",
      " [ 175.  211.  250.  291.  335.  380.  428.  477.  529.  582.  638.  695.\n",
      "   753.  814.  876.  940. 1005. 1072. 1141. 1210.]\n",
      " [ 212.  217.  219.  225.  228.  232.  241.  234.  256.  284.  314.  346.\n",
      "   378.  412.  447.  482.  519.  556.  594.  633.]\n",
      " [   0.    0.    0.    0.    0.    0.    0.    0.    0.    0.    0.    0.\n",
      "     0.    0.    0.    0.    0.    0.    0.    0.]]\n",
      "[0.9197554347826087, 0.527348174621928, 0.11518742795962239, 0.08150688149455049, 0.060447328893331376, 0.047434265290678734, 0.03809257778502967, 0.031282499328924296, 0.02656035600005835, 0.0228297621578869, 0.020086838546965524, 0.017847056559616215, 0.016154173352289636, 0.01475187019694596, 0.013581217839883863, 0.012643438446037991, 0.011843289286861736, 0.011208314091719018, 0.010644197252219545, 0.010127724630297374, 0.00967767907756334, 0.00926574253375717, 0.008879072595849358, 0.008519673747856338, 0.008204156031152432, 0.007907491394621768, 0.007627846210484179, 0.007363847199979623, 0.007125695705755608, 0.006903366571115621, 0.006692048917830651, 0.0064909202389150655, 0.006300940114979503, 0.00612882450037322, 0.0059640943345189434, 0.005806340052499692, 0.0056551768029363125, 0.005511726628257996, 0.005380203693702623, 0.005253600645898637, 0.005131678695609987, 0.005014215493706953, 0.004900998036544368, 0.0047968091287495795, 0.004696731406976906, 0.004599919500139049, 0.004506235470104314, 0.0044155475604082395, 0.00432861777920468, 0.00424768352107735, 0.004169092592992529, 0.004092761328948535, 0.004018613152721062, 0.00394656567634788, 0.003876822436273075, 0.0038118063636602972, 0.003748451093965266, 0.0036866969266440286, 0.003626478739480854, 0.003567748707925422, 0.003510456236234416, 0.0034553837875015425, 0.003403051047911443, 0.0033518700801291046, 0.003301804865494362, 0.003252820439941906, 0.00320488244376943, 0.0031579584182220843, 0.0031120165437715785, 0.003068001187103153, 0.003025472201815038, 0.0029837437369734654, 0.002942793410107336, 0.0029025995709989205, 0.0028631413110807857, 0.0028243984027004343, 0.0027863513234153703, 0.0027489812042862383, 0.002712269831478875, 0.002677180802845347, 0.0026426913797308327, 0.002608752432056771, 0.0025753510359385334, 0.0025424746775608575, 0.0025101112369154688, 0.002478248974925268, 0.0024468765261325687, 0.0024159828842250652, 0.0023855573915945727, 0.002355589728450569, 0.0023260699007572327, 0.002296988230026442, 0.002268454659009933, 0.002240738836027989, 0.0022134033696928346, 0.002186441254549365, 0.002159845675512473, 0.0021336100019403448, 0.002107727781696489, 0.002082192735405608, 0.0020569987507850773, 0.0020321398771341315, 0.002007610319953057, 0.001983404435709102, 0.0019595167267508207, 0.001935941836375188, 0.0019126745440457005, 0.0018897097607732394, 0.0018670425246467004, 0.001844667996509508, 0.0018225814557610298, 0.0018007782962985441, 0.0017792540226058695, 0.0017580042460184075, 0.0017370246811109213, 0.001716311142195004, 0.0016958595399478305, 0.0016756658781830747, 0.0016557262507479464, 0.0016360368385229807, 0.0016166985600101769, 0.0015976302834551648, 0.0015787934453531105, 0.0015601849340307616, 0.0015418016930652811, 0.0015236407197886659, 0.0015056990638591117, 0.001487973825861133, 0.0014704621559749609, 0.0014531612526779702, 0.001436068361496623, 0.0014191807738049844, 0.0014024958256599884, 0.0013860108966808338, 0.0013697234089674049, 0.0013536308260542196, 0.0013377306519049004, 0.0013220204299367877, 0.0013064977420855217, 0.0012911602078926054, 0.0012760054836354895, 0.001261031261480694, 0.0012462352686634648, 0.001231615266703956, 0.0012171690506420085, 0.0012028944482998516, 0.0011887893195711152, 0.0011748515557314376, 0.0011610790787716097, 0.001147469840753701, 0.0011340218231858379, 0.0011207330364216284, 0.0011076015190698008, 0.0010946253374353732, 0.0010818025849621549, 0.0010691313817096648, 0.0010566098738313823, 0.0010442362330789767, 0.0010320086563144204, 0.0010199253650402529, 0.001007984604945944, 0.0009961846454606404, 0.0009845237793231765, 0.0009730003221660732, 0.0009616126121072543, 0.0009503590093543068, 0.0009392378958217873, 0.0009282476747548007, 0.0009173867703689553, 0.0009066536274905945, 0.0008960467112179016, 0.0008855645065808937, 0.0008752055182149054, 0.0008649682700426209, 0.0008548513049612683, 0.0008448531845416385, 0.0008349724887292687, 0.0008252078155568388, 0.0008155577808642844, 0.0008060210180189653, 0.0007965961776513208, 0.0007872819273881393, 0.0007780769515999264, 0.0007689799511453321, 0.0007599896431298436, 0.0007511047606624244, 0.0007423240526223118, 0.0007336462834292012, 0.0007250702328170933, 0.0007165946956141922, 0.0007082184815281334, 0.0006999404149324873, 0.0006917593346619233, 0.0006836740938070962, 0.0006756835595164712, 0.0006677866128014243, 0.0006599821483429524, 0.0006522690743060444, 0.0006446463121545509, 0.0006371127964689416, 0.0006296674747705011, 0.0006223093073461361, 0.0006150372670768456, 0.0006078503392689671, 0.0006007475214921398, 0.0005937278234122711, 0.0005867902666353841, 0.000579933884548578, 0.0005731577221676498, 0.0005664608359843837, 0.0005598422938177805, 0.0005533011746665095, 0.0005468365685665222, 0.0005404475764467787, 0.0005341333099924128, 0.0005278928915036785, 0.000521725453762778, 0.0005156301399026342, 0.0005096061032713317, 0.0005036525073052189, 0.0004977685254040076, 0.0004919533408005439, 0.0004862061464414591, 0.000480526144864879, 0.00047491254807979777, 0.0004693645774476174, 0.00046388146356862725, 0.00045846244616404297, 0.0004531067739660388, 0.00044781370460383885, 0.00044258250449630276, 0.0004374124487416253, 0.00043230282101391904, 0.00042725291345363514, 0.00042226202656814316, 0.00041732946912564906, 0.0004124545580583838, 0.0004076366183601299, 0.0004028749829878553, 0.0003981689927681775, 0.0003935179962986646, 0.0003889213498543542, 0.00038437841729727085, 0.000379888569979836, 0.00037545118665971433, 0.0003710656534069434, 0.0003667313635175029, 0.00036244771742593995, 0.0003582141226176061, 0.00035402999354894327, 0.0003498947515587769, 0.0003458078247873253, 0.00034176864809709606, 0.0003377766629881762, 0.00033383131752362516, 0.00032993206624565286, 0.0003260783701054537, 0.00032226969637849656, 0.00031850551859557985, 0.0003147853164656711, 0.00031110857580152196, 0.00030747478845005727, 0.0003038834522181011, 0.00030033407079987917, 0.0002968261537145134, 0.0002933592162273069, 0.00028993277928890393, 0.00028654636946390255, 0.00028319951886635053, 0.0002798917650917998, 0.00027662265115668827, 0.000273391725429728, 0.0002701985415688446, 0.00026704265846455577, 0.0002639236401689171, 0.0002608410558426755, 0.0002577944796898768, 0.00025478349090179986, 0.0002518076735945618, 0.0002488666167547171, 0.00024595991417930563, 0.00024308716442011935, 0.00024024797072597082, 0.00023744194099251104, 0.000234668687700057, 0.00023192782786629618, 0.00022921898298811083, 0.00022654177899228412, 0.0002238958461813212, 0.00022128081918237896, 0.00021869633689741708, 0.0002161420424519056, 0.0002136175831453091, 0.00021112261040245883, 0.00020865677972470298, 0.00020621975064283316, 0.0002038111866686787, 0.0002014307552484773, 0.00019907812771857714, 0.00019675297925636492, 0.00019445498883807755, 0.00019218383919461512, 0.00018993921676324632, 0.00018772081164941667, 0.00018552831758089638, 0.00018336143186514775, 0.00018121985534946816, 0.0001791032923761371, 0.00017701145074444646, 0.0001749440416696224, 0.00017290077974085882, 0.0001708813828851241, 0.0001688855723244176, 0.0001669130725404644, 0.00016496361123308212, 0.00016303691928709618, 0.0001611327307294852, 0.0001592507826976286, 0.00015739081539956068, 0.00015555257208021978, 0.00015373579898347867, 0.00015194024531983708, 0.00015016566323000635, 0.00014841180775004847, 0.00014667843677906856, 0.00014496531104524202, 0.00014327219407284097, 0.00014159885214648504, 0.00013994505428582826, 0.00013831057220548004, 0.00013669518029058025, 0.00013509865555816347, 0.0001335207776349545, 0.00013196132871862165, 0.0001304200935542399, 0.00012889685940087325, 0.00012739141600004444, 0.00012590355555541777, 0.0001244330726932752, 0.0001229797644414221, 0.00012154343019898928, 0.00012012387170790007, 0.00011872089302544797, 0.00011733430050020477, 0.00011596390274015711, 0.00011460951059261149, 0.00011327093711044345, 0.00011194799753366791, 0.00011064050925857494, 0.00010934829181574734, 0.0001080711668437484, 0.00010680895806403079, 0.00010556149125817704, 0.00010432859424103214, 0.00010311009684160766, 0.00010190583087454907, 0.0001007156301190415, 9.953933029627215e-05, 9.837676904878023e-05, 9.7227785911147e-05, 9.609222229567393e-05, 9.49699214655153e-05, 9.386072851524929e-05, 9.276449034889556e-05, 9.168105565893203e-05, 9.061027490386842e-05, 8.955200029037158e-05, 8.850608575161623e-05, 8.747238692496939e-05, 8.645076113678041e-05, 8.544106737684576e-05, 8.444316628442028e-05, 8.345692012567962e-05, 8.248219277506852e-05, 8.15188496985364e-05, 8.05667579311109e-05, 7.9625786062687e-05, 7.86958042184871e-05, 7.777668403730065e-05, 7.686829866282441e-05, 7.597052271435256e-05, 7.508323228055946e-05, 7.420630489407554e-05, 7.333961951994095e-05, 7.248305653528853e-05, 7.16364977170203e-05, 7.079982621982506e-05, 6.997292656496512e-05, 6.915568462162458e-05, 6.834798759325356e-05, 6.754972399969361e-05, 6.676078366207872e-05, 6.598105769062279e-05, 6.521043846585695e-05, 6.444881962508475e-05, 6.369609604961468e-05, 6.295216384588631e-05, 6.221692033581139e-05, 6.149026404078661e-05, 6.077209466515132e-05, 6.006231308663956e-05, 5.9360821340948e-05, 5.8667522606858924e-05, 5.79823211940278e-05, 5.730512253021569e-05, 5.663583314796661e-05, 5.597436067017458e-05, 5.532061380131292e-05, 5.467450230944859e-05, 5.40359370172494e-05, 5.340482978977157e-05, 5.278109352135907e-05, 5.21646421219879e-05, 5.155539050971658e-05, 5.0953254595254016e-05, 5.035815126896992e-05, 4.976999839667595e-05, 4.918871480064091e-05, 4.861422024982076e-05, 4.804643545397447e-05, 4.748528204623348e-05, 4.6930682575441196e-05, 4.6382560495716874e-05, 4.584084015446521e-05, 4.530544678382764e-05, 4.4776306487581685e-05, 4.425334623392452e-05, 4.3736493843260504e-05, 4.3225677979541466e-05, 4.272082813872036e-05, 4.222187464275606e-05, 4.1728748624403345e-05, 4.124138202243888e-05, 4.0759707570114934e-05, 4.02836587872768e-05, 3.9813169968372364e-05, 3.934817617667896e-05, 3.888861323364523e-05, 3.843441770912115e-05, 3.7985526916917145e-05, 3.754187889815075e-05, 3.7103412422689885e-05, 3.667006697227748e-05, 3.62417827362016e-05, 3.5818500601747516e-05, 3.540016214920172e-05, 3.4986709637641056e-05, 3.457808600304535e-05, 3.417423484597393e-05, 3.377510042823495e-05, 3.338062765945171e-05, 3.299076209595242e-05, 3.260544992678138e-05, 3.222463797236674e-05, 3.184827367153087e-05, 3.147630507938093e-05, 3.1108680856428705e-05, 3.0745350263039484e-05, 3.0386263151216397e-05, 3.003136996171385e-05, 2.9680621709715638e-05, 2.9333969985612107e-05, 2.8991366945896324e-05, 2.8652765302172867e-05, 2.8318118321490893e-05, 2.798737981579702e-05, 2.76605041368283e-05, 2.733744616822964e-05, 2.7018161321334944e-05, 2.6702605529616008e-05, 2.639073523869051e-05, 2.6082507404545652e-05, 2.5777879485655575e-05, 2.547680943709718e-05, 2.517925570433288e-05, 2.4885177220546062e-05, 2.459453339487272e-05, 2.4307284114510885e-05, 2.4023389731842038e-05, 2.3742811063987013e-05, 2.3465509386144667e-05, 2.3191446423709294e-05, 2.292058435160449e-05, 2.2652885785290344e-05, 2.2388313775767443e-05, 2.2126831807578462e-05, 2.1868403791591717e-05, 2.1612994058006763e-05, 2.1360567356243365e-05, 2.111108884506052e-05, 2.0864524093444636e-05, 2.0620839068397068e-05, 2.0380000136821508e-05, 2.0141974058862644e-05, 1.9906727982021977e-05, 1.967422943682795e-05, 1.9444446334060395e-05, 1.9217346959532478e-05, 1.8992899967429366e-05, 1.8771074382417652e-05, 1.8551839584102225e-05, 1.8335165317351354e-05, 1.8121021673755955e-05, 1.7909379099401157e-05, 1.7700208382098737e-05, 1.7493480652164273e-05, 1.7289167377976256e-05, 1.7087240358093503e-05, 1.6887671724474806e-05, 1.669043393170977e-05, 1.6495499757129828e-05, 1.6302842295812248e-05, 1.6112434957582522e-05, 1.592425146113019e-05, 1.573826583511906e-05, 1.555445240830622e-05, 1.537278581076329e-05, 1.5193240969879618e-05, 1.5015793103811959e-05, 1.4840417722150612e-05, 1.4667090617814793e-05, 1.4495787870383303e-05, 1.4326485834992297e-05, 1.4159161144555732e-05, 1.399379070576856e-05, 1.3830351694110732e-05, 1.3668821550516519e-05, 1.3509177981929632e-05, 1.3351398953642679e-05, 1.3195462688631032e-05, 1.3041347664888292e-05, 1.2889032612095619e-05, 1.2738496506514707e-05, 1.2589718571431874e-05, 1.2442678273161256e-05, 1.2297355315937786e-05, 1.2153729643693545e-05, 1.2011781432064161e-05, 1.187149108994312e-05, 1.1732839254152694e-05, 1.1595806787889629e-05, 1.1460374777616522e-05, 1.1326524532395688e-05, 1.1194237575562482e-05, 1.1063495651275623e-05, 1.0934280713970068e-05, 1.0806574927912926e-05, 1.0680360669090838e-05, 1.0555620516439213e-05, 1.0432337253063473e-05, 1.0310493863796566e-05, 1.0190073530869093e-05, 1.007105963546362e-05, 9.953435750276185e-06]\n"
     ]
    }
   ],
   "source": [
    "print(iter_list)\n",
    "print(delta_list[0])"
   ]
  },
  {
   "cell_type": "markdown",
   "metadata": {},
   "source": [
    "K)"
   ]
  },
  {
   "cell_type": "code",
   "execution_count": 103,
   "metadata": {},
   "outputs": [],
   "source": [
    "def SOR_objects(Y, w, ob):\n",
    "    Y_prev = np.copy(Y)\n",
    "    Y = update_SOR(Y, w, objects = ob)\n",
    "    diff = np.abs(Y - Y_prev)\n",
    "    diff_val = (np.amax(diff))\n",
    "    k = 1\n",
    "    while(diff_val > e):\n",
    "        k=k+1\n",
    "        Y_prev = np.copy(Y)\n",
    "        Y = update_SOR(Y, w, objects = ob)\n",
    "        diff = np.abs(Y - Y_prev)\n",
    "        diff_val = (np.amax(diff))\n",
    "    return(Y, k)"
   ]
  },
  {
   "cell_type": "code",
   "execution_count": 104,
   "metadata": {
    "scrolled": true
   },
   "outputs": [
    {
     "name": "stdout",
     "output_type": "stream",
     "text": [
      "10\n"
     ]
    }
   ],
   "source": [
    "Y = init(N)\n",
    "# ob = [(20,30), (20,30)]\n",
    "# ob = [(10, 20), (10, 40)]\n",
    "ob = np.array([[10, 20], [10, 20], [10, 20], [30, 40]])\n",
    "print(ob[0,0])\n",
    "grid_obj, iterations = SOR_objects(Y,w, ob)\n"
   ]
  },
  {
   "cell_type": "code",
   "execution_count": 105,
   "metadata": {},
   "outputs": [
    {
     "name": "stdout",
     "output_type": "stream",
     "text": [
      "112\n"
     ]
    },
    {
     "data": {
      "image/png": "[encoded data removed]",
      "text/plain": [
       "<Figure size 432x288 with 1 Axes>"
      ]
     },
     "metadata": {
      "needs_background": "light"
     },
     "output_type": "display_data"
    }
   ],
   "source": [
    "print (iterations)\n",
    "plt.imshow(grid_obj)\n",
    "plt.show()"
   ]
  },
  {
   "cell_type": "code",
   "execution_count": null,
   "metadata": {},
   "outputs": [],
   "source": []
  },
  {
   "cell_type": "code",
   "execution_count": null,
   "metadata": {},
   "outputs": [],
   "source": []
  }
 ],
 "metadata": {
  "kernelspec": {
   "display_name": "Python 3",
   "language": "python",
   "name": "python3"
  },
  "language_info": {
   "codemirror_mode": {
    "name": "ipython",
    "version": 3
   },
   "file_extension": ".py",
   "mimetype": "text/x-python",
   "name": "python",
   "nbconvert_exporter": "python",
   "pygments_lexer": "ipython3",
   "version": "3.8.5"
  }
 },
 "nbformat": 4,
 "nbformat_minor": 4
}
