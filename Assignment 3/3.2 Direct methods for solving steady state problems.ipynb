{
 "cells": [
  {
   "cell_type": "code",
   "execution_count": 91,
   "metadata": {},
   "outputs": [],
   "source": [
    "import math\n",
    "import numpy as np \n",
    "import matplotlib.pyplot as plt \n",
    "from numpy import random \n",
    "from scipy import linalg\n",
    "from scipy.sparse.linalg import eigs\n",
    "from scipy.sparse.linalg import eigsh\n",
    "import sys\n",
    "import matplotlib.animation as animation\n",
    "np.set_printoptions(threshold=sys.maxsize)\n",
    "import time"
   ]
  },
  {
   "cell_type": "code",
   "execution_count": 96,
   "metadata": {},
   "outputs": [],
   "source": [
    "N = 40\n",
    "dx = 4/N\n",
    "x = 0.6\n",
    "y = 1.2"
   ]
  },
  {
   "cell_type": "code",
   "execution_count": 97,
   "metadata": {},
   "outputs": [
    {
     "data": {
      "image/png": "[encoded data removed]",
      "text/plain": [
       "<Figure size 288x288 with 1 Axes>"
      ]
     },
     "metadata": {
      "needs_background": "light"
     },
     "output_type": "display_data"
    }
   ],
   "source": [
    "def matrix(N, dx):\n",
    "    matrix = np.zeros((N**2,N**2))\n",
    "    i = 0\n",
    "    for row in matrix:\n",
    "        row[i] = -4\n",
    "        if i >= N:\n",
    "            row[i-N] = 1\n",
    "        if i < (N-1)*N:\n",
    "            row[i+N] = 1\n",
    "        if (i+1)%N !=1:\n",
    "            row[i-1] = 1\n",
    "        if (i+1)%N !=0:\n",
    "            row[i+1] = 1\n",
    "        i = i+1                                                                                                                                                                                                                                                                                                                                                                                                                                                                                                                                                                                                                                                                                                                                                                                                                                                                                                                                                                                                                                                                                                                                                                                                                                                                                                                                                                                                                                                                                                                                                                                    \n",
    "    dist_list = np.array([])\n",
    "    for i in range(N):\n",
    "        a = (i+0.5) * dx - 2\n",
    "        for j in range(N):\n",
    "            b = (j+0.5) * dx - 2\n",
    "            dist = np.sqrt(a**2 + b**2)\n",
    "            dist_list = np.append(dist_list, dist)\n",
    "    change_list = dist_list > 2\n",
    "    for i in range(len(change_list)):\n",
    "        if change_list[i]:\n",
    "            matrix[:, i] = 0\n",
    "            matrix[i, :] = 0\n",
    "    i = 0\n",
    "    for row in matrix:\n",
    "        if row[i] != -4:\n",
    "            row[i] = 1\n",
    "        i+=1\n",
    "    return matrix\n",
    "\n",
    "M = matrix(N, dx)\n",
    "# print(m)\n",
    "plt.matshow(M)\n",
    "plt.show()"
   ]
  },
  {
   "cell_type": "code",
   "execution_count": 98,
   "metadata": {},
   "outputs": [],
   "source": [
    "def init_b(N,dx,x,y):\n",
    "    b = np.zeros((N, N))\n",
    "    k = int(math.floor((2+x) /dx))\n",
    "    l = int(math.floor((2-y) /dx))\n",
    "    b[l,k] = -1\n",
    "    b = np.reshape(b, (1, N*N))\n",
    "    return b\n",
    "b = init_b(N,dx,x,y)\n",
    "\n",
    "# wanneer we onze sourch op 1 zetten worden de uiteindelijk \n",
    "#concentraties negatief, dat "
   ]
  },
  {
   "cell_type": "code",
   "execution_count": 99,
   "metadata": {},
   "outputs": [
    {
     "data": {
      "image/png": "[encoded data removed]",
      "text/plain": [
       "<Figure size 432x288 with 2 Axes>"
      ]
     },
     "metadata": {
      "needs_background": "light"
     },
     "output_type": "display_data"
    }
   ],
   "source": [
    "c = linalg.solve(M,b[0])\n",
    "C = np.reshape(c, (N,N))\n",
    "colormap = plt.imshow(C, cmap='viridis')\n",
    "plt.colorbar()\n",
    "plt.show()"
   ]
  },
  {
   "cell_type": "code",
   "execution_count": null,
   "metadata": {},
   "outputs": [],
   "source": []
  },
  {
   "cell_type": "code",
   "execution_count": null,
   "metadata": {},
   "outputs": [],
   "source": []
  },
  {
   "cell_type": "code",
   "execution_count": null,
   "metadata": {},
   "outputs": [],
   "source": []
  }
 ],
 "metadata": {
  "kernelspec": {
   "display_name": "Python 3",
   "language": "python",
   "name": "python3"
  },
  "language_info": {
   "codemirror_mode": {
    "name": "ipython",
    "version": 3
   },
   "file_extension": ".py",
   "mimetype": "text/x-python",
   "name": "python",
   "nbconvert_exporter": "python",
   "pygments_lexer": "ipython3",
   "version": "3.8.3"
  }
 },
 "nbformat": 4,
 "nbformat_minor": 4
}
