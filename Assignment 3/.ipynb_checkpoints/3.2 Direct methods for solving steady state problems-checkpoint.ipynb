{
 "cells": [
  {
   "cell_type": "code",
   "execution_count": 1,
   "metadata": {},
   "outputs": [],
   "source": [
    "import math\n",
    "import numpy as np \n",
    "import matplotlib.pyplot as plt \n",
    "from numpy import random \n",
    "from scipy import linalg\n",
    "from scipy.sparse.linalg import eigs\n",
    "from scipy.sparse.linalg import eigsh\n",
    "import sys\n",
    "import matplotlib.animation as animation\n",
    "np.set_printoptions(threshold=sys.maxsize)\n",
    "import time"
   ]
  },
  {
   "cell_type": "code",
   "execution_count": 60,
   "metadata": {},
   "outputs": [],
   "source": [
    "N = 50\n",
    "dx = 4/N\n",
    "x = 0.6\n",
    "y = 1.2"
   ]
  },
  {
   "cell_type": "code",
   "execution_count": 63,
   "metadata": {},
   "outputs": [
    {
     "data": {
      "image/png": "[encoded data removed]",
      "text/plain": [
       "<Figure size 432x288 with 2 Axes>"
      ]
     },
     "metadata": {
      "needs_background": "light"
     },
     "output_type": "display_data"
    }
   ],
   "source": [
    "def matrix(N,dx,x,y):\n",
    "    matrix = np.zeros((N**2,N**2))\n",
    "    i = 0\n",
    "    for row in matrix:\n",
    "        row[i] = -4\n",
    "        if i >= N:\n",
    "            row[i-N] = 1\n",
    "        if i < (N-1)*N:\n",
    "            row[i+N] = 1\n",
    "        if (i+1)%N !=1:\n",
    "            row[i-1] = 1\n",
    "        if (i+1)%N !=0:\n",
    "            row[i+1] = 1\n",
    "        i = i+1                                                                                                                                                                                                                                                                                                                                                                                                                                                                                                                                                                                                                                                                                                                                                                                                                                                                                                                                                                                                                                                                                                                                                                                                                                                                                                                                                                                                                                                                                                                                                                                    \n",
    "    dist_list = np.array([])\n",
    "    for i in range(N):\n",
    "        a = (i+0.5) * dx - 2\n",
    "        for j in range(N):\n",
    "            b = (j+0.5) * dx - 2\n",
    "            dist = np.sqrt(a**2 + b**2)\n",
    "            dist_list = np.append(dist_list, dist)\n",
    "    change_list = dist_list > 2\n",
    "    for i in range(len(change_list)):\n",
    "        if change_list[i]:\n",
    "            matrix[:, i] = 0\n",
    "            matrix[i, :] = 0\n",
    "    i = 0\n",
    "    for row in matrix:\n",
    "        if row[i] != -4:\n",
    "            row[i] = 1\n",
    "        i+=1\n",
    "    b = np.zeros((N, N))\n",
    "    k = int(math.floor((2+x) /dx))\n",
    "    l = int(math.floor((2-y) /dx))\n",
    "    b[l,k] = 1\n",
    "    b = np.reshape(b, (N*N))\n",
    "    S = np.argmax(b)\n",
    "    Sourcerow = np.zeros(N*N)\n",
    "    Sourcerow[S] = 1\n",
    "    matrix[S] = Sourcerow\n",
    "    return b, matrix\n",
    "\n",
    "b, M = matrix(N,dx,x,y)\n",
    "colormap = plt.imshow(M, cmap='viridis')\n",
    "plt.colorbar()\n",
    "plt.show()"
   ]
  },
  {
   "cell_type": "code",
   "execution_count": 62,
   "metadata": {},
   "outputs": [
    {
     "data": {
      "image/png": "[encoded data removed]",
      "text/plain": [
       "<Figure size 432x288 with 2 Axes>"
      ]
     },
     "metadata": {
      "needs_background": "light"
     },
     "output_type": "display_data"
    }
   ],
   "source": [
    "c = linalg.solve(M,b)\n",
    "C = np.reshape(c, (N,N))\n",
    "colormap = plt.imshow(C, cmap='viridis')\n",
    "plt.colorbar()\n",
    "plt.show()"
   ]
  }
 ],
 "metadata": {
  "kernelspec": {
   "display_name": "Python 3",
   "language": "python",
   "name": "python3"
  },
  "language_info": {
   "codemirror_mode": {
    "name": "ipython",
    "version": 3
   },
   "file_extension": ".py",
   "mimetype": "text/x-python",
   "name": "python",
   "nbconvert_exporter": "python",
   "pygments_lexer": "ipython3",
   "version": "3.8.3"
  }
 },
 "nbformat": 4,
 "nbformat_minor": 4
}
