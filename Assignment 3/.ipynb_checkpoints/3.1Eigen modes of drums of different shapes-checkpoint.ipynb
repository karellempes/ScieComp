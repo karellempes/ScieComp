{
 "cells": [
  {
   "cell_type": "code",
   "execution_count": 1,
   "metadata": {},
   "outputs": [],
   "source": [
    "import math\n",
    "import numpy as np \n",
    "import matplotlib.pyplot as plt \n",
    "from numpy import random \n",
    "import sys\n",
    "import matplotlib.animation as animation"
   ]
  },
  {
   "cell_type": "markdown",
   "metadata": {},
   "source": [
    "A"
   ]
  },
  {
   "cell_type": "code",
   "execution_count": 2,
   "metadata": {},
   "outputs": [],
   "source": [
    "w = 1.6\n",
    "M = np.array([[-(1-w),w/2,0,w/2,0,0,0,0,0,0],\n",
    "             [w/3,-(1-w), w/3,0,w/3,0,0,0,0,0],\n",
    "             [0,w/2,-(1-w),0,0,w/2,0,0,0,0,0],\n",
    "             [w/3,0,0,-(1-w),w/3,0,w/3,0,0],\n",
    "             [0,w/4,0,w/4,-(1-w),w/4,0,w/4,0],\n",
    "             [0,0,w/3,0,0,-(1-w),w/3,0,w/3],\n",
    "             [0,0,0,w/2,0,0,-(1-w),w/2,0],\n",
    "             [0,0,0,0,w/3,0,w/3,-(1-w),w/3],\n",
    "             [0,0,0,0,0,0, w/2,0,w/2,-(1-w)]])"
   ]
  },
  {
   "cell_type": "code",
   "execution_count": null,
   "metadata": {},
   "outputs": [],
   "source": []
  }
 ],
 "metadata": {
  "kernelspec": {
   "display_name": "Python 3",
   "language": "python",
   "name": "python3"
  },
  "language_info": {
   "codemirror_mode": {
    "name": "ipython",
    "version": 3
   },
   "file_extension": ".py",
   "mimetype": "text/x-python",
   "name": "python",
   "nbconvert_exporter": "python",
   "pygments_lexer": "ipython3",
   "version": "3.8.3"
  }
 },
 "nbformat": 4,
 "nbformat_minor": 4
}
