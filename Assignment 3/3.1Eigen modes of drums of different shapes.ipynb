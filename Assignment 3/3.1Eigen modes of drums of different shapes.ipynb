{
 "cells": [
  {
   "cell_type": "code",
   "execution_count": 1,
   "metadata": {},
   "outputs": [],
   "source": [
    "import math\n",
    "import numpy as np \n",
    "import matplotlib.pyplot as plt \n",
    "from numpy import random \n",
    "from scipy import linalg\n",
    "from scipy.sparse.linalg import eigs\n",
    "from scipy.sparse.linalg import eigsh\n",
    "import sys\n",
    "import matplotlib.animation as animation\n",
    "np.set_printoptions(threshold=sys.maxsize)\n",
    "import time"
   ]
  },
  {
   "cell_type": "markdown",
   "metadata": {},
   "source": [
    "A"
   ]
  },
  {
   "cell_type": "code",
   "execution_count": 17,
   "metadata": {},
   "outputs": [
    {
     "data": {
      "image/png": "[encoded data removed]",
      "text/plain": [
       "<Figure size 288x288 with 1 Axes>"
      ]
     },
     "metadata": {
      "needs_background": "light"
     },
     "output_type": "display_data"
    }
   ],
   "source": [
    "L = 1\n",
    "N = 40 # the length\n",
    "M = 40 # the width\n",
    "dx = 1/N\n",
    "\n",
    "def matrix(N,M, circle = False):\n",
    "    matrix = np.zeros((N*M,N*M))\n",
    "    i = 0\n",
    "    for row in matrix:\n",
    "        row[i] = -4\n",
    "        if i >= M:\n",
    "            row[i-M] = 1\n",
    "        if i < (M-1)*N:\n",
    "            row[i+M] = 1\n",
    "        if (i+1)%M !=1:\n",
    "            row[i-1] = 1\n",
    "        if (i+1)%M !=0:\n",
    "            row[i+1] = 1\n",
    "        i = i+1                                                                                                                                                                                                                                                                                                                                                                                                                                                                                                                                                                                                                                                                                                                                                                                                                                                                                                                                                                                                                                                                                                                                                                                                                                                                                                                                                                                                                                                                                                                                                                                    \n",
    "    if circle:\n",
    "        dist_list = np.array([])\n",
    "        if N % 2 == 0:\n",
    "            k = 0\n",
    "        else:\n",
    "            k = 0\n",
    "        for i in range(N):\n",
    "            i = i+0.5\n",
    "            for j in range(M):\n",
    "                j = j+ 0.5\n",
    "                dist = np.sqrt((i-((N/2)+k))**2+(j-((M/2)+k))**2)\n",
    "                dist_list = np.append(dist_list, dist)\n",
    "        change_list = dist_list > (N/2)+k\n",
    "#         print(change_list)\n",
    "#         print(dist_list)\n",
    "#         print((N/2)+k)\n",
    "        for i in range(len(change_list)):\n",
    "            if change_list[i]:\n",
    "                matrix[:, i] = 0\n",
    "                matrix[i, :] = 0\n",
    "    i = 0\n",
    "    for row in matrix:\n",
    "        if row[i] != -4:\n",
    "            row[i] = 1\n",
    "        i+=1\n",
    "    return matrix\n",
    "m = matrix(N,M, True)\n",
    "plt.matshow(m)\n",
    "plt.show()\n",
    "#print(m)\n",
    "# eigen_vectors = eigs(m)\n",
    "# eigsh(m)"
   ]
  },
  {
   "cell_type": "code",
   "execution_count": null,
   "metadata": {},
   "outputs": [],
   "source": [
    "L = 1\n",
    "N = 40 # the length\n",
    "M = 40 # the width\n",
    "dx = 1/N\n",
    "\n",
    "def matrix(N,M, circle = False):\n",
    "    matrix = np.zeros((N*M,N*M))\n",
    "    i = 0\n",
    "    for row in matrix:\n",
    "        row[i] = -4\n",
    "        if i >= M:\n",
    "            row[i-M] = 1\n",
    "        if i < (M-1)*N:\n",
    "            row[i+M] = 1\n",
    "        if (i+1)%M !=1:\n",
    "            row[i-1] = 1\n",
    "        if (i+1)%M !=0:\n",
    "            row[i+1] = 1\n",
    "        i = i+1                                                                                                                                                                                                                                                                                                                                                                                                                                                                                                                                                                                                                                                                                                                                                                                                                                                                                                                                                                                                                                                                                                                                                                                                                                                                                                                                                                                                                                                                                                                                                                                    \n",
    "    if circle:\n",
    "        dist_list = np.array([])\n",
    "        for i in range(N):\n",
    "            i = i+0.5\n",
    "            for j in range(M):\n",
    "                j = j+ 0.5\n",
    "                dist = np.sqrt((i-((N/2)+k))**2+(j-((M/2)+k))**2)\n",
    "                dist_list = np.append(dist_list, dist)\n",
    "        change_list = dist_list > (N/2)+k\n",
    "\n",
    "        for i in range(len(change_list)):\n",
    "            if change_list[i]:\n",
    "                matrix[:, i] = 0\n",
    "                matrix[i, :] = 0\n",
    "    i = 0\n",
    "    for row in matrix:\n",
    "        if row[i] != -4:\n",
    "            row[i] = 1\n",
    "        i+=1\n",
    "    return matrix\n",
    "m = matrix(N,M, True)\n",
    "plt.matshow(m)\n",
    "plt.show()\n",
    "#print(m)\n",
    "# eigen_vectors = eigs(m)\n",
    "# eigsh(m)"
   ]
  },
  {
   "cell_type": "markdown",
   "metadata": {},
   "source": [
    "B) for the matrix of a 4x4 "
   ]
  },
  {
   "cell_type": "code",
   "execution_count": 21,
   "metadata": {},
   "outputs": [
    {
     "data": {
      "image/png": "[encoded data removed]",
      "text/plain": [
       "<Figure size 432x288 with 2 Axes>"
      ]
     },
     "metadata": {
      "needs_background": "light"
     },
     "output_type": "display_data"
    },
    {
     "ename": "TypeError",
     "evalue": "'NoneType' object is not callable",
     "output_type": "error",
     "traceback": [
      "\u001b[1;31m---------------------------------------------------------------------------\u001b[0m",
      "\u001b[1;31mTypeError\u001b[0m                                 Traceback (most recent call last)",
      "\u001b[1;32m<ipython-input-21-20b106b14615>\u001b[0m in \u001b[0;36m<module>\u001b[1;34m\u001b[0m\n\u001b[0;32m     11\u001b[0m \u001b[0mcolormap\u001b[0m \u001b[1;33m=\u001b[0m \u001b[0mplt\u001b[0m\u001b[1;33m.\u001b[0m\u001b[0mimshow\u001b[0m\u001b[1;33m(\u001b[0m\u001b[0meigen_grid\u001b[0m\u001b[1;33m,\u001b[0m \u001b[0mcmap\u001b[0m\u001b[1;33m=\u001b[0m\u001b[1;34m'viridis'\u001b[0m\u001b[1;33m)\u001b[0m\u001b[1;33m\u001b[0m\u001b[1;33m\u001b[0m\u001b[0m\n\u001b[0;32m     12\u001b[0m \u001b[0mplt\u001b[0m\u001b[1;33m.\u001b[0m\u001b[0mcolorbar\u001b[0m\u001b[1;33m(\u001b[0m\u001b[1;33m)\u001b[0m\u001b[1;33m\u001b[0m\u001b[1;33m\u001b[0m\u001b[0m\n\u001b[1;32m---> 13\u001b[1;33m \u001b[0mplt\u001b[0m\u001b[1;33m.\u001b[0m\u001b[0mshow\u001b[0m\u001b[1;33m(\u001b[0m\u001b[1;33m)\u001b[0m\u001b[1;33m(\u001b[0m\u001b[1;33m)\u001b[0m\u001b[1;33m\u001b[0m\u001b[1;33m\u001b[0m\u001b[0m\n\u001b[0m",
      "\u001b[1;31mTypeError\u001b[0m: 'NoneType' object is not callable"
     ]
    }
   ],
   "source": [
    "eigen = linalg.eigh(m)\n",
    "#print(eigen)\n",
    "values = eigen[0]\n",
    "vectors = eigen[1]\n",
    "# print(np.abs(values))\n",
    "smallest = np.argmin(np.abs(values))\n",
    "# print(smallest)\n",
    "smallest_vector = vectors[smallest]\n",
    "eigen_grid = np.reshape(smallest_vector, (N,M))\n",
    "# plt.matshow(eigen_grid)\n",
    "colormap = plt.imshow(eigen_grid, cmap='viridis')\n",
    "plt.colorbar()\n",
    "plt.show()"
   ]
  },
  {
   "cell_type": "markdown",
   "metadata": {},
   "source": [
    "plots"
   ]
  },
  {
   "cell_type": "markdown",
   "metadata": {},
   "source": [
    "C)"
   ]
  },
  {
   "cell_type": "code",
   "execution_count": 4,
   "metadata": {},
   "outputs": [
    {
     "name": "stdout",
     "output_type": "stream",
     "text": [
      "--- 0.89389967918396 seconds ---\n"
     ]
    }
   ],
   "source": [
    "start_time = time.time()\n",
    "eigen_vectors = linalg.eig(m)\n",
    "print(\"--- %s seconds ---\" % (time.time() - start_time))"
   ]
  },
  {
   "cell_type": "code",
   "execution_count": 5,
   "metadata": {},
   "outputs": [
    {
     "name": "stdout",
     "output_type": "stream",
     "text": [
      "--- 0.16470623016357422 seconds ---\n"
     ]
    }
   ],
   "source": [
    "start_time = time.time()\n",
    "eigen_vectors = eigs(m)\n",
    "print(\"--- %s seconds ---\" % (time.time() - start_time))"
   ]
  },
  {
   "cell_type": "code",
   "execution_count": null,
   "metadata": {},
   "outputs": [],
   "source": []
  }
 ],
 "metadata": {
  "kernelspec": {
   "display_name": "Python 3",
   "language": "python",
   "name": "python3"
  },
  "language_info": {
   "codemirror_mode": {
    "name": "ipython",
    "version": 3
   },
   "file_extension": ".py",
   "mimetype": "text/x-python",
   "name": "python",
   "nbconvert_exporter": "python",
   "pygments_lexer": "ipython3",
   "version": "3.8.3"
  }
 },
 "nbformat": 4,
 "nbformat_minor": 4
}
