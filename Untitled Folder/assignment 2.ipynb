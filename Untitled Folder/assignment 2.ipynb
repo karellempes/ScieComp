{
 "cells": [
  {
   "cell_type": "code",
   "execution_count": 28,
   "metadata": {},
   "outputs": [],
   "source": [
    "import math\n",
    "import numpy as np \n",
    "import matplotlib.pyplot as plt \n",
    "from numpy import random "
   ]
  },
  {
   "cell_type": "code",
   "execution_count": 19,
   "metadata": {},
   "outputs": [],
   "source": [
    "#initialize the values\n",
    "N = 100\n",
    "D = 1\n",
    "dx = 1/N\n",
    "w = 1.9\n",
    "e = 10**(-5)\n",
    "eta = 1"
   ]
  },
  {
   "cell_type": "code",
   "execution_count": 3,
   "metadata": {},
   "outputs": [],
   "source": [
    "def update_SOR(Y, w, N = 50, objects = []):\n",
    "    '''\n",
    "    The SOR method grid update function\n",
    "    Args:\n",
    "        -Y, the grid at the current timestep\n",
    "        -w, the omega constant\n",
    "        -N, the size of the grid\n",
    "        -objects, the range of one or two objects in the grid blocking diffusion\n",
    "    Out:\n",
    "        -Y, the grid at the next timestep\n",
    "    '''\n",
    "    #update the grid at position i, j and take boundary conditions into account\n",
    "    for j in range(1, len(Y)-1):\n",
    "        for i in range(len(Y)):\n",
    "            if i == 0:\n",
    "                 Y[j,i] = (1-w)*Y[j,i] + (w/4) * (Y[j+1,i] + Y[j-1,i] + Y[j,i+1] + Y[j,-1]) \n",
    "            elif i == N-1:\n",
    "                 Y[j,i] = (1-w)*Y[j,i] + (w/4) * (Y[j+1,i] + Y[j-1,i] + Y[j,0] + Y[j,i-1]) \n",
    "            else:\n",
    "                 Y[j,i] = (1-w)*Y[j,i] + (w/4) * (Y[j+1,i] + Y[j-1,i] + Y[j,i+1] + Y[j,i-1])\n",
    "        if len(objects) > 0:\n",
    "            Y[objects[0,0]:objects[0,1], objects[1,0]:objects[1,1]] = 0\n",
    "            if len(objects) == 4:\n",
    "                Y[objects[2,0]:objects[2,1], objects[3,0]:objects[3,1]] = 0    \n",
    "    return(Y)  "
   ]
  },
  {
   "cell_type": "code",
   "execution_count": 4,
   "metadata": {},
   "outputs": [],
   "source": [
    "def init(N):\n",
    "    '''\n",
    "    Initialize a grid with all zeros except on the first row where the value is all ones\n",
    "    Args:\n",
    "        -N the size of the grid\n",
    "    Out: the initial state of the grid\n",
    "    '''\n",
    "    k = 1\n",
    "    Y = np.zeros((N,N))\n",
    "    Y[0] = np.ones(N)\n",
    "    Y_prev = np.copy(Y)\n",
    "    Y = update_SOR(Y, w, N)\n",
    "    #calculate the difference between the last two iterations\n",
    "    diff = np.abs(Y - Y_prev)\n",
    "    diff_val = (np.amax(diff))\n",
    "    #until the differnce is smaller than epsilon, update the grid\n",
    "    while(diff_val > e):\n",
    "        k = k+1\n",
    "        Y_prev = np.copy(Y)\n",
    "        Y = update_SOR(Y, w, N)\n",
    "        diff = np.abs(Y - Y_prev)\n",
    "        diff_val = (np.amax(diff))\n",
    "    return Y\n",
    "Y = init(N)"
   ]
  },
  {
   "cell_type": "code",
   "execution_count": 52,
   "metadata": {},
   "outputs": [],
   "source": [
    "def growth(Y, seed, neighbours, eta):\n",
    "    total = 0\n",
    "    prop = []\n",
    "    for s in seed:\n",
    "        Y[s[0],s[1]] = 0\n",
    "    for n in neighbours:\n",
    "        total += (Y[n[0],n[1]])**eta\n",
    "        c_ij = (Y[n[0],n[1]])**eta\n",
    "        prop.append(c_ij)\n",
    "    prop = prop/total\n",
    "    \n",
    "    index = random.choice(np.arange(len(neighbours)), p = prop)\n",
    "    new_s = neighbours[index] \n",
    "    \n",
    "    seed = np.vstack([seed, new_s])\n",
    "    neighbours = np.delete(neighbours, index, axis = 0)\n",
    "    for i in [-1,1]:\n",
    "        if Y[new_s[0]+i,new_s[1]]!=0:\n",
    "            neighbours = np.vstack([neighbours, [new_s[0]+i,new_s[1]] ])\n",
    "        if Y[new_s[0],new_s[1]+i]!=0:\n",
    "            neighbours = np.vstack([neighbours, [new_s[0],new_s[1]+i]] )\n",
    "# fix boundary conditions \n",
    "    return Y, seed, neighbours"
   ]
  },
  {
   "cell_type": "code",
   "execution_count": 51,
   "metadata": {},
   "outputs": [
    {
     "name": "stdout",
     "output_type": "stream",
     "text": [
      "[[99 49]\n",
      " [99 51]]\n"
     ]
    },
    {
     "data": {
      "text/plain": [
       "(array([[1.        , 1.        , 1.        , ..., 1.        , 1.        ,\n",
       "         1.        ],\n",
       "        [0.98985899, 0.98985899, 0.98985899, ..., 0.98985936, 0.98985937,\n",
       "         0.98985937],\n",
       "        [0.9797184 , 0.97971841, 0.97971842, ..., 0.97971916, 0.97971916,\n",
       "         0.97971917],\n",
       "        ...,\n",
       "        [0.02015207, 0.02015207, 0.02015208, ..., 0.02015254, 0.02015254,\n",
       "         0.02015255],\n",
       "        [0.01007614, 0.01007615, 0.01007615, ..., 0.01007638, 0.01007638,\n",
       "         0.01007638],\n",
       "        [0.        , 0.        , 0.        , ..., 0.        , 0.        ,\n",
       "         0.        ]]),\n",
       " array([[99, 50],\n",
       "        [98, 50]]),\n",
       " array([[99, 49],\n",
       "        [99, 51],\n",
       "        [97, 50],\n",
       "        [98, 49],\n",
       "        [98, 51]]))"
      ]
     },
     "execution_count": 51,
     "metadata": {},
     "output_type": "execute_result"
    }
   ],
   "source": [
    "seed = np.array([[99,50]])\n",
    "neighbours= np.array([[98,50], [99,49], [99,51]])\n",
    "growth(Y, seed, neighbours, eta)"
   ]
  },
  {
   "cell_type": "code",
   "execution_count": null,
   "metadata": {},
   "outputs": [],
   "source": [
    "       "
   ]
  }
 ],
 "metadata": {
  "kernelspec": {
   "display_name": "Python 3",
   "language": "python",
   "name": "python3"
  },
  "language_info": {
   "codemirror_mode": {
    "name": "ipython",
    "version": 3
   },
   "file_extension": ".py",
   "mimetype": "text/x-python",
   "name": "python",
   "nbconvert_exporter": "python",
   "pygments_lexer": "ipython3",
   "version": "3.8.3"
  }
 },
 "nbformat": 4,
 "nbformat_minor": 4
}
