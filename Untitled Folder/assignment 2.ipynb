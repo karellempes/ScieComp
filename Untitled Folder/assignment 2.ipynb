{
 "cells": [
  {
   "cell_type": "code",
   "execution_count": 2,
   "metadata": {},
   "outputs": [],
   "source": [
    "import math\n",
    "import numpy as np \n",
    "import matplotlib.pyplot as plt "
   ]
  },
  {
   "cell_type": "code",
   "execution_count": 3,
   "metadata": {},
   "outputs": [],
   "source": [
    "#initialize the values\n",
    "N = 100\n",
    "D = 1\n",
    "dx = 1/N\n",
    "w = 1.9\n",
    "e = 10**(-5)"
   ]
  },
  {
   "cell_type": "code",
   "execution_count": 5,
   "metadata": {},
   "outputs": [],
   "source": [
    "def update_SOR(Y, w, N = 50, objects = []):\n",
    "    '''\n",
    "    The SOR method grid update function\n",
    "    Args:\n",
    "        -Y, the grid at the current timestep\n",
    "        -w, the omega constant\n",
    "        -N, the size of the grid\n",
    "        -objects, the range of one or two objects in the grid blocking diffusion\n",
    "    Out:\n",
    "        -Y, the grid at the next timestep\n",
    "    '''\n",
    "    #update the grid at position i, j and take boundary conditions into account\n",
    "    for j in range(1, len(Y)-1):\n",
    "        for i in range(len(Y)):\n",
    "            if i == 0:\n",
    "                 Y[j,i] = (1-w)*Y[j,i] + (w/4) * (Y[j+1,i] + Y[j-1,i] + Y[j,i+1] + Y[j,-1]) \n",
    "            elif i == N-1:\n",
    "                 Y[j,i] = (1-w)*Y[j,i] + (w/4) * (Y[j+1,i] + Y[j-1,i] + Y[j,0] + Y[j,i-1]) \n",
    "            else:\n",
    "                 Y[j,i] = (1-w)*Y[j,i] + (w/4) * (Y[j+1,i] + Y[j-1,i] + Y[j,i+1] + Y[j,i-1])\n",
    "        if len(objects) > 0:\n",
    "            Y[objects[0,0]:objects[0,1], objects[1,0]:objects[1,1]] = 0\n",
    "            if len(objects) == 4:\n",
    "                Y[objects[2,0]:objects[2,1], objects[3,0]:objects[3,1]] = 0    \n",
    "    return(Y)  "
   ]
  },
  {
   "cell_type": "code",
   "execution_count": 13,
   "metadata": {},
   "outputs": [],
   "source": [
    "def init(N):\n",
    "    '''\n",
    "    Initialize a grid with all zeros except on the first row where the value is all ones\n",
    "    Args:\n",
    "        -N the size of the grid\n",
    "    Out: the initial state of the grid\n",
    "    '''\n",
    "    k = 1\n",
    "    Y = np.zeros((N,N))\n",
    "    Y[0] = np.ones(N)\n",
    "    Y_prev = np.copy(Y)\n",
    "    Y = update_SOR(Y, w, N)\n",
    "    #calculate the difference between the last two iterations\n",
    "    diff = np.abs(Y - Y_prev)\n",
    "    diff_val = (np.amax(diff))\n",
    "    #until the differnce is smaller than epsilon, update the grid\n",
    "    while(diff_val > e):\n",
    "        k = k+1\n",
    "        Y_prev = np.copy(Y)\n",
    "        Y = update_SOR(Y, w, N)\n",
    "        diff = np.abs(Y - Y_prev)\n",
    "        diff_val = (np.amax(diff))\n",
    "    return Y"
   ]
  },
  {
   "cell_type": "code",
   "execution_count": null,
   "metadata": {},
   "outputs": [],
   "source": [
    "def growth(Y, seed):\n",
    "    tot = 0\n",
    "    \n",
    "    for s in seed:\n",
    "        Y[s[0],s[1]] = 0\n",
    "    for s in seed:\n",
    "        for i in [-1,1]:\n",
    "            total += Y[s[0]+i,s[1]]\n",
    "            total += Y[s[0],s[1]+i]\n",
    "    \n",
    "    return Y, seed"
   ]
  },
  {
   "cell_type": "code",
   "execution_count": 14,
   "metadata": {},
   "outputs": [],
   "source": [
    "Y = init(N)\n",
    "seed = np.array([[50,50]])\n",
    "growth(Y, seed)"
   ]
  },
  {
   "cell_type": "code",
   "execution_count": null,
   "metadata": {},
   "outputs": [],
   "source": [
    "       "
   ]
  }
 ],
 "metadata": {
  "kernelspec": {
   "display_name": "Python 3",
   "language": "python",
   "name": "python3"
  },
  "language_info": {
   "codemirror_mode": {
    "name": "ipython",
    "version": 3
   },
   "file_extension": ".py",
   "mimetype": "text/x-python",
   "name": "python",
   "nbconvert_exporter": "python",
   "pygments_lexer": "ipython3",
   "version": "3.8.3"
  }
 },
 "nbformat": 4,
 "nbformat_minor": 4
}
